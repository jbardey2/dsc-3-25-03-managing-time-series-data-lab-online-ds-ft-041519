{
 "cells": [
  {
   "cell_type": "markdown",
   "metadata": {},
   "source": [
    "# Module 2 Project: Northwind Database"
   ]
  },
  {
   "cell_type": "markdown",
   "metadata": {},
   "source": [
    "### Assignment:  \n",
    "Query the fictional Northwind Database and use statistical analysis to formulate and conduct Hypothesis Tests to answer 4 relevant business questions for the company.\n",
    "\n",
    "Data will be extracted from the database using SQL Queries.  The data will be explored and used to form and answer the following business questions with hypothesis testing."
   ]
  },
  {
   "cell_type": "markdown",
   "metadata": {},
   "source": [
    "### 1.  How do discounts affect the number of products customers order?\n",
    "### 2.  Does Northwind sell more alcoholic or non-alcoholic beverages?\n",
    "### 3.  Is there a difference in sales volume between different offices?\n",
    "### 4.  Do shipping costs vary bewteen the different carriers?"
   ]
  },
  {
   "cell_type": "code",
   "execution_count": 1,
   "metadata": {},
   "outputs": [],
   "source": [
    "#import necessary libraries\n",
    "import pandas as pd\n",
    "import numpy as np\n",
    "import matplotlib.pyplot as plt\n",
    "import seaborn as sns\n",
    "%matplotlib inline\n",
    "import warnings\n",
    "warnings.filterwarnings(\"ignore\")\n",
    "\n",
    "import statsmodels.api as sm\n",
    "from statsmodels.formula.api import ols\n",
    "from scipy import stats\n",
    "import sqlalchemy\n",
    "from sqlalchemy import create_engine\n",
    "from sqlalchemy.orm import Session, sessionmaker\n",
    "from sqlalchemy import inspect"
   ]
  },
  {
   "cell_type": "markdown",
   "metadata": {},
   "source": [
    "### Northwind Database Schema:\n",
    "The below schema has been provided showing tables and relationships to access relevant data.\n",
    "\n",
    "<img src='Northwind_ERD.png'>"
   ]
  },
  {
   "cell_type": "code",
   "execution_count": 2,
   "metadata": {},
   "outputs": [],
   "source": [
    "#create an engine and connect to sqlite database using sqlalchemy\n",
    "engine = create_engine(\"sqlite:///Northwind_small.sqlite\", echo=True)\n",
    "Session = sessionmaker(bind=engine)\n",
    "session = Session()\n"
   ]
  },
  {
   "cell_type": "code",
   "execution_count": 3,
   "metadata": {},
   "outputs": [
    {
     "name": "stdout",
     "output_type": "stream",
     "text": [
      "2019-06-16 21:39:23,415 INFO sqlalchemy.engine.base.Engine SELECT CAST('test plain returns' AS VARCHAR(60)) AS anon_1\n",
      "2019-06-16 21:39:23,420 INFO sqlalchemy.engine.base.Engine ()\n",
      "2019-06-16 21:39:23,423 INFO sqlalchemy.engine.base.Engine SELECT CAST('test unicode returns' AS VARCHAR(60)) AS anon_1\n",
      "2019-06-16 21:39:23,425 INFO sqlalchemy.engine.base.Engine ()\n",
      "2019-06-16 21:39:23,432 INFO sqlalchemy.engine.base.Engine SELECT name FROM sqlite_master WHERE type='table' ORDER BY name\n",
      "2019-06-16 21:39:23,434 INFO sqlalchemy.engine.base.Engine ()\n"
     ]
    },
    {
     "data": {
      "text/plain": [
       "['Category',\n",
       " 'Customer',\n",
       " 'CustomerCustomerDemo',\n",
       " 'CustomerDemographic',\n",
       " 'Employee',\n",
       " 'EmployeeTerritory',\n",
       " 'Order',\n",
       " 'OrderDetail',\n",
       " 'Product',\n",
       " 'Region',\n",
       " 'Shipper',\n",
       " 'Supplier',\n",
       " 'Territory']"
      ]
     },
     "execution_count": 3,
     "metadata": {},
     "output_type": "execute_result"
    }
   ],
   "source": [
    "#Getting the table names and viewing them \n",
    "inspector = inspect(engine)\n",
    "table_names = inspector.get_table_names()\n",
    "table_names"
   ]
  },
  {
   "cell_type": "code",
   "execution_count": 4,
   "metadata": {},
   "outputs": [
    {
     "name": "stdout",
     "output_type": "stream",
     "text": [
      "2019-06-16 21:39:23,462 INFO sqlalchemy.engine.base.Engine PRAGMA table_info(\"Category\")\n",
      "2019-06-16 21:39:23,464 INFO sqlalchemy.engine.base.Engine ()\n"
     ]
    },
    {
     "data": {
      "text/plain": [
       "[{'name': 'Id',\n",
       "  'type': INTEGER(),\n",
       "  'nullable': True,\n",
       "  'default': None,\n",
       "  'autoincrement': 'auto',\n",
       "  'primary_key': 1},\n",
       " {'name': 'CategoryName',\n",
       "  'type': VARCHAR(length=8000),\n",
       "  'nullable': True,\n",
       "  'default': None,\n",
       "  'autoincrement': 'auto',\n",
       "  'primary_key': 0},\n",
       " {'name': 'Description',\n",
       "  'type': VARCHAR(length=8000),\n",
       "  'nullable': True,\n",
       "  'default': None,\n",
       "  'autoincrement': 'auto',\n",
       "  'primary_key': 0}]"
      ]
     },
     "execution_count": 4,
     "metadata": {},
     "output_type": "execute_result"
    }
   ],
   "source": [
    "#previewing a table\n",
    "inspector.get_columns('Category')"
   ]
  },
  {
   "cell_type": "markdown",
   "metadata": {},
   "source": [
    "Getting the columns of our tables prints out a list of dictionaries with more information than we need.  We will write a quick loop to extract the column names for each table for easy access."
   ]
  },
  {
   "cell_type": "code",
   "execution_count": 5,
   "metadata": {},
   "outputs": [
    {
     "name": "stdout",
     "output_type": "stream",
     "text": [
      "2019-06-16 21:39:23,496 INFO sqlalchemy.engine.base.Engine PRAGMA table_info(\"Customer\")\n",
      "2019-06-16 21:39:23,498 INFO sqlalchemy.engine.base.Engine ()\n",
      "2019-06-16 21:39:23,505 INFO sqlalchemy.engine.base.Engine PRAGMA table_info(\"CustomerCustomerDemo\")\n",
      "2019-06-16 21:39:23,507 INFO sqlalchemy.engine.base.Engine ()\n",
      "2019-06-16 21:39:23,512 INFO sqlalchemy.engine.base.Engine PRAGMA table_info(\"CustomerDemographic\")\n",
      "2019-06-16 21:39:23,514 INFO sqlalchemy.engine.base.Engine ()\n",
      "2019-06-16 21:39:23,520 INFO sqlalchemy.engine.base.Engine PRAGMA table_info(\"Employee\")\n",
      "2019-06-16 21:39:23,523 INFO sqlalchemy.engine.base.Engine ()\n",
      "2019-06-16 21:39:23,528 INFO sqlalchemy.engine.base.Engine PRAGMA table_info(\"EmployeeTerritory\")\n",
      "2019-06-16 21:39:23,529 INFO sqlalchemy.engine.base.Engine ()\n",
      "2019-06-16 21:39:23,535 INFO sqlalchemy.engine.base.Engine PRAGMA table_info(\"Order\")\n",
      "2019-06-16 21:39:23,536 INFO sqlalchemy.engine.base.Engine ()\n",
      "2019-06-16 21:39:23,543 INFO sqlalchemy.engine.base.Engine PRAGMA table_info(\"OrderDetail\")\n",
      "2019-06-16 21:39:23,545 INFO sqlalchemy.engine.base.Engine ()\n",
      "2019-06-16 21:39:23,549 INFO sqlalchemy.engine.base.Engine PRAGMA table_info(\"Product\")\n",
      "2019-06-16 21:39:23,551 INFO sqlalchemy.engine.base.Engine ()\n",
      "2019-06-16 21:39:23,556 INFO sqlalchemy.engine.base.Engine PRAGMA table_info(\"Region\")\n",
      "2019-06-16 21:39:23,558 INFO sqlalchemy.engine.base.Engine ()\n",
      "2019-06-16 21:39:23,562 INFO sqlalchemy.engine.base.Engine PRAGMA table_info(\"Shipper\")\n",
      "2019-06-16 21:39:23,563 INFO sqlalchemy.engine.base.Engine ()\n",
      "2019-06-16 21:39:23,567 INFO sqlalchemy.engine.base.Engine PRAGMA table_info(\"Supplier\")\n",
      "2019-06-16 21:39:23,569 INFO sqlalchemy.engine.base.Engine ()\n",
      "2019-06-16 21:39:23,574 INFO sqlalchemy.engine.base.Engine PRAGMA table_info(\"Territory\")\n",
      "2019-06-16 21:39:23,575 INFO sqlalchemy.engine.base.Engine ()\n"
     ]
    },
    {
     "data": {
      "text/plain": [
       "dict_keys(['Category', 'Customer', 'CustomerCustomerDemo', 'CustomerDemographic', 'Employee', 'EmployeeTerritory', 'Order', 'OrderDetail', 'Product', 'Region', 'Shipper', 'Supplier', 'Territory'])"
      ]
     },
     "execution_count": 5,
     "metadata": {},
     "output_type": "execute_result"
    }
   ],
   "source": [
    "table_columns = {}\n",
    "for table in table_names:\n",
    "    column_names = []\n",
    "    for col in inspector.get_columns(table):\n",
    "        column_names.append(col['name'])\n",
    "    table_columns[table] = column_names\n",
    "\n",
    "#previwing our new dictionary\n",
    "table_columns.keys()\n",
    "    "
   ]
  },
  {
   "cell_type": "markdown",
   "metadata": {},
   "source": [
    "## Question 1: Do discounts have a statistically significant effect on the number of products customers order? If so, at what level(s) of discount?"
   ]
  },
  {
   "cell_type": "code",
   "execution_count": 6,
   "metadata": {},
   "outputs": [
    {
     "data": {
      "text/plain": [
       "['Id', 'OrderId', 'ProductId', 'UnitPrice', 'Quantity', 'Discount']"
      ]
     },
     "execution_count": 6,
     "metadata": {},
     "output_type": "execute_result"
    }
   ],
   "source": [
    "#inspecting OrderDetail table\n",
    "table_columns['OrderDetail']"
   ]
  },
  {
   "cell_type": "markdown",
   "metadata": {},
   "source": [
    "First we will extract necessary information from the Order Detail table into a pandas dataframe."
   ]
  },
  {
   "cell_type": "code",
   "execution_count": 7,
   "metadata": {},
   "outputs": [
    {
     "name": "stdout",
     "output_type": "stream",
     "text": [
      "2019-06-16 21:39:23,612 INFO sqlalchemy.engine.base.Engine SELECT Quantity, Discount FROM OrderDetail\n",
      "2019-06-16 21:39:23,615 INFO sqlalchemy.engine.base.Engine ()\n"
     ]
    },
    {
     "data": {
      "text/html": [
       "<div>\n",
       "<style scoped>\n",
       "    .dataframe tbody tr th:only-of-type {\n",
       "        vertical-align: middle;\n",
       "    }\n",
       "\n",
       "    .dataframe tbody tr th {\n",
       "        vertical-align: top;\n",
       "    }\n",
       "\n",
       "    .dataframe thead th {\n",
       "        text-align: right;\n",
       "    }\n",
       "</style>\n",
       "<table border=\"1\" class=\"dataframe\">\n",
       "  <thead>\n",
       "    <tr style=\"text-align: right;\">\n",
       "      <th></th>\n",
       "      <th>Quantity</th>\n",
       "      <th>Discount</th>\n",
       "    </tr>\n",
       "  </thead>\n",
       "  <tbody>\n",
       "    <tr>\n",
       "      <th>0</th>\n",
       "      <td>12</td>\n",
       "      <td>0.00</td>\n",
       "    </tr>\n",
       "    <tr>\n",
       "      <th>1</th>\n",
       "      <td>10</td>\n",
       "      <td>0.00</td>\n",
       "    </tr>\n",
       "    <tr>\n",
       "      <th>2</th>\n",
       "      <td>5</td>\n",
       "      <td>0.00</td>\n",
       "    </tr>\n",
       "    <tr>\n",
       "      <th>3</th>\n",
       "      <td>9</td>\n",
       "      <td>0.00</td>\n",
       "    </tr>\n",
       "    <tr>\n",
       "      <th>4</th>\n",
       "      <td>40</td>\n",
       "      <td>0.00</td>\n",
       "    </tr>\n",
       "    <tr>\n",
       "      <th>5</th>\n",
       "      <td>10</td>\n",
       "      <td>0.00</td>\n",
       "    </tr>\n",
       "    <tr>\n",
       "      <th>6</th>\n",
       "      <td>35</td>\n",
       "      <td>0.15</td>\n",
       "    </tr>\n",
       "    <tr>\n",
       "      <th>7</th>\n",
       "      <td>15</td>\n",
       "      <td>0.15</td>\n",
       "    </tr>\n",
       "    <tr>\n",
       "      <th>8</th>\n",
       "      <td>6</td>\n",
       "      <td>0.05</td>\n",
       "    </tr>\n",
       "    <tr>\n",
       "      <th>9</th>\n",
       "      <td>15</td>\n",
       "      <td>0.05</td>\n",
       "    </tr>\n",
       "  </tbody>\n",
       "</table>\n",
       "</div>"
      ],
      "text/plain": [
       "   Quantity  Discount\n",
       "0        12      0.00\n",
       "1        10      0.00\n",
       "2         5      0.00\n",
       "3         9      0.00\n",
       "4        40      0.00\n",
       "5        10      0.00\n",
       "6        35      0.15\n",
       "7        15      0.15\n",
       "8         6      0.05\n",
       "9        15      0.05"
      ]
     },
     "execution_count": 7,
     "metadata": {},
     "output_type": "execute_result"
    }
   ],
   "source": [
    "orders_discounts = pd.read_sql_query('''SELECT Quantity, Discount FROM OrderDetail''', engine)\n",
    "orders_discounts.head(10)"
   ]
  },
  {
   "cell_type": "code",
   "execution_count": 8,
   "metadata": {},
   "outputs": [
    {
     "data": {
      "text/html": [
       "<div>\n",
       "<style scoped>\n",
       "    .dataframe tbody tr th:only-of-type {\n",
       "        vertical-align: middle;\n",
       "    }\n",
       "\n",
       "    .dataframe tbody tr th {\n",
       "        vertical-align: top;\n",
       "    }\n",
       "\n",
       "    .dataframe thead th {\n",
       "        text-align: right;\n",
       "    }\n",
       "</style>\n",
       "<table border=\"1\" class=\"dataframe\">\n",
       "  <thead>\n",
       "    <tr style=\"text-align: right;\">\n",
       "      <th></th>\n",
       "      <th>Quantity</th>\n",
       "      <th>Discount</th>\n",
       "    </tr>\n",
       "  </thead>\n",
       "  <tbody>\n",
       "    <tr>\n",
       "      <th>count</th>\n",
       "      <td>2155.000000</td>\n",
       "      <td>2155.000000</td>\n",
       "    </tr>\n",
       "    <tr>\n",
       "      <th>mean</th>\n",
       "      <td>23.812993</td>\n",
       "      <td>0.056167</td>\n",
       "    </tr>\n",
       "    <tr>\n",
       "      <th>std</th>\n",
       "      <td>19.022047</td>\n",
       "      <td>0.083450</td>\n",
       "    </tr>\n",
       "    <tr>\n",
       "      <th>min</th>\n",
       "      <td>1.000000</td>\n",
       "      <td>0.000000</td>\n",
       "    </tr>\n",
       "    <tr>\n",
       "      <th>25%</th>\n",
       "      <td>10.000000</td>\n",
       "      <td>0.000000</td>\n",
       "    </tr>\n",
       "    <tr>\n",
       "      <th>50%</th>\n",
       "      <td>20.000000</td>\n",
       "      <td>0.000000</td>\n",
       "    </tr>\n",
       "    <tr>\n",
       "      <th>75%</th>\n",
       "      <td>30.000000</td>\n",
       "      <td>0.100000</td>\n",
       "    </tr>\n",
       "    <tr>\n",
       "      <th>max</th>\n",
       "      <td>130.000000</td>\n",
       "      <td>0.250000</td>\n",
       "    </tr>\n",
       "  </tbody>\n",
       "</table>\n",
       "</div>"
      ],
      "text/plain": [
       "          Quantity     Discount\n",
       "count  2155.000000  2155.000000\n",
       "mean     23.812993     0.056167\n",
       "std      19.022047     0.083450\n",
       "min       1.000000     0.000000\n",
       "25%      10.000000     0.000000\n",
       "50%      20.000000     0.000000\n",
       "75%      30.000000     0.100000\n",
       "max     130.000000     0.250000"
      ]
     },
     "execution_count": 8,
     "metadata": {},
     "output_type": "execute_result"
    }
   ],
   "source": [
    "orders_discounts.describe()"
   ]
  },
  {
   "cell_type": "markdown",
   "metadata": {},
   "source": [
    "We have 2155 orders with an average quantity of 23.8 and average discount around 5%.  Quantity ranges from 1 to 130 and Discount ranges from 0 - 25%.   "
   ]
  },
  {
   "cell_type": "code",
   "execution_count": 9,
   "metadata": {},
   "outputs": [
    {
     "data": {
      "text/plain": [
       "0.00    1317\n",
       "0.05     185\n",
       "0.10     173\n",
       "0.20     161\n",
       "0.15     157\n",
       "0.25     154\n",
       "0.03       3\n",
       "0.02       2\n",
       "0.01       1\n",
       "0.04       1\n",
       "0.06       1\n",
       "Name: Discount, dtype: int64"
      ]
     },
     "execution_count": 9,
     "metadata": {},
     "output_type": "execute_result"
    }
   ],
   "source": [
    "#Viewing unique discount levels and counts\n",
    "orders_discounts.Discount.value_counts()"
   ]
  },
  {
   "cell_type": "markdown",
   "metadata": {},
   "source": [
    "There are so few values for discounts of 1, 2, 3, 4 and 6% we can just combine those into the 5% discount group for the purposes of our experiment."
   ]
  },
  {
   "cell_type": "code",
   "execution_count": 10,
   "metadata": {},
   "outputs": [
    {
     "data": {
      "text/plain": [
       "0.00    1317\n",
       "0.05     193\n",
       "0.10     173\n",
       "0.20     161\n",
       "0.15     157\n",
       "0.25     154\n",
       "Name: Discount, dtype: int64"
      ]
     },
     "execution_count": 10,
     "metadata": {},
     "output_type": "execute_result"
    }
   ],
   "source": [
    "#Combining discounts greater than 0 and less than 0.10\n",
    "orders_discounts['Discount'] = orders_discounts['Discount'].apply(lambda x: 0.05 if (x > 0) & (x < 0.10) else x)\n",
    "orders_discounts['Discount'].value_counts()"
   ]
  },
  {
   "cell_type": "markdown",
   "metadata": {},
   "source": [
    "For the first part of our question we simply want to know if a discount significantly impacts the size of the order so we will create a binary Is_Discounted column."
   ]
  },
  {
   "cell_type": "code",
   "execution_count": 11,
   "metadata": {},
   "outputs": [],
   "source": [
    "orders_discounts['Is_Discounted'] = orders_discounts['Discount'].apply(lambda x: 1 if x > 0 else 0)"
   ]
  },
  {
   "cell_type": "code",
   "execution_count": 12,
   "metadata": {},
   "outputs": [
    {
     "data": {
      "text/html": [
       "<div>\n",
       "<style scoped>\n",
       "    .dataframe tbody tr th:only-of-type {\n",
       "        vertical-align: middle;\n",
       "    }\n",
       "\n",
       "    .dataframe tbody tr th {\n",
       "        vertical-align: top;\n",
       "    }\n",
       "\n",
       "    .dataframe thead th {\n",
       "        text-align: right;\n",
       "    }\n",
       "</style>\n",
       "<table border=\"1\" class=\"dataframe\">\n",
       "  <thead>\n",
       "    <tr style=\"text-align: right;\">\n",
       "      <th></th>\n",
       "      <th>Quantity</th>\n",
       "      <th>Discount</th>\n",
       "      <th>Is_Discounted</th>\n",
       "    </tr>\n",
       "  </thead>\n",
       "  <tbody>\n",
       "    <tr>\n",
       "      <th>0</th>\n",
       "      <td>12</td>\n",
       "      <td>0.00</td>\n",
       "      <td>0</td>\n",
       "    </tr>\n",
       "    <tr>\n",
       "      <th>1</th>\n",
       "      <td>10</td>\n",
       "      <td>0.00</td>\n",
       "      <td>0</td>\n",
       "    </tr>\n",
       "    <tr>\n",
       "      <th>2</th>\n",
       "      <td>5</td>\n",
       "      <td>0.00</td>\n",
       "      <td>0</td>\n",
       "    </tr>\n",
       "    <tr>\n",
       "      <th>3</th>\n",
       "      <td>9</td>\n",
       "      <td>0.00</td>\n",
       "      <td>0</td>\n",
       "    </tr>\n",
       "    <tr>\n",
       "      <th>4</th>\n",
       "      <td>40</td>\n",
       "      <td>0.00</td>\n",
       "      <td>0</td>\n",
       "    </tr>\n",
       "    <tr>\n",
       "      <th>5</th>\n",
       "      <td>10</td>\n",
       "      <td>0.00</td>\n",
       "      <td>0</td>\n",
       "    </tr>\n",
       "    <tr>\n",
       "      <th>6</th>\n",
       "      <td>35</td>\n",
       "      <td>0.15</td>\n",
       "      <td>1</td>\n",
       "    </tr>\n",
       "    <tr>\n",
       "      <th>7</th>\n",
       "      <td>15</td>\n",
       "      <td>0.15</td>\n",
       "      <td>1</td>\n",
       "    </tr>\n",
       "    <tr>\n",
       "      <th>8</th>\n",
       "      <td>6</td>\n",
       "      <td>0.05</td>\n",
       "      <td>1</td>\n",
       "    </tr>\n",
       "    <tr>\n",
       "      <th>9</th>\n",
       "      <td>15</td>\n",
       "      <td>0.05</td>\n",
       "      <td>1</td>\n",
       "    </tr>\n",
       "  </tbody>\n",
       "</table>\n",
       "</div>"
      ],
      "text/plain": [
       "   Quantity  Discount  Is_Discounted\n",
       "0        12      0.00              0\n",
       "1        10      0.00              0\n",
       "2         5      0.00              0\n",
       "3         9      0.00              0\n",
       "4        40      0.00              0\n",
       "5        10      0.00              0\n",
       "6        35      0.15              1\n",
       "7        15      0.15              1\n",
       "8         6      0.05              1\n",
       "9        15      0.05              1"
      ]
     },
     "execution_count": 12,
     "metadata": {},
     "output_type": "execute_result"
    }
   ],
   "source": [
    "orders_discounts.head(10)"
   ]
  },
  {
   "cell_type": "code",
   "execution_count": 13,
   "metadata": {},
   "outputs": [
    {
     "name": "stdout",
     "output_type": "stream",
     "text": [
      "Is_Discounted\n",
      "0    1317\n",
      "1     838\n",
      "Name: Quantity, dtype: int64\n"
     ]
    }
   ],
   "source": [
    "#Number of orders with and without Discounts\n",
    "print(orders_discounts.groupby('Is_Discounted')['Quantity'].count())"
   ]
  },
  {
   "cell_type": "code",
   "execution_count": 14,
   "metadata": {},
   "outputs": [
    {
     "name": "stdout",
     "output_type": "stream",
     "text": [
      "Is_Discounted\n",
      "0    21.715262\n",
      "1    27.109785\n",
      "Name: Quantity, dtype: float64\n"
     ]
    }
   ],
   "source": [
    "#Mean quantity per order with and without Discounts\n",
    "print(orders_discounts.groupby('Is_Discounted')['Quantity'].mean())"
   ]
  },
  {
   "cell_type": "markdown",
   "metadata": {},
   "source": [
    "More orders were placed without a discount, but the average quantity per order is higher with a discount applied.\n",
    "Next we will split our data into the two groups, with and without to perform our Hypothesis test."
   ]
  },
  {
   "cell_type": "code",
   "execution_count": 15,
   "metadata": {},
   "outputs": [],
   "source": [
    "not_discounted = orders_discounts[orders_discounts['Is_Discounted'] == 0]\n",
    "discounted = orders_discounts[orders_discounts['Is_Discounted'] == 1]\n",
    "X = not_discounted.Quantity\n",
    "Y = discounted.Quantity"
   ]
  },
  {
   "cell_type": "code",
   "execution_count": 16,
   "metadata": {},
   "outputs": [
    {
     "data": {
      "image/png": "[encoded data removed]",
      "text/plain": [
       "<Figure size 576x576 with 1 Axes>"
      ]
     },
     "metadata": {
      "needs_background": "light"
     },
     "output_type": "display_data"
    }
   ],
   "source": [
    "#Distribution for discounted vs non-discounted quantity. Eyeball test for normality.\n",
    "plt.figure(figsize=(8,8))\n",
    "sns.distplot(X, label = 'Not Discounted')\n",
    "sns.distplot(Y, label = 'Discounted')\n",
    "plt.axvline(X.mean(), linestyle = '--', color = 'blue')\n",
    "plt.axvline(Y.mean(), linestyle = '--', color = 'orange')\n",
    "plt.title(\"Distribution of Discounted and Not Discounted Quantity per Order\")\n",
    "plt.legend()\n",
    "plt.show()"
   ]
  },
  {
   "cell_type": "markdown",
   "metadata": {},
   "source": [
    "### Question 1, Part 1 - Hypothesis:   \n",
    "$H\\_0: \\mu_1\\= \\mu_2\\$  -- The average quantity of products per order is equal with or without discounts\n",
    "\n",
    "$H\\_A: \\mu_1 >=  \\mu_2\\$ -- The average quantity of products per order increases with a discount.\n",
    "\n"
   ]
  },
  {
   "cell_type": "code",
   "execution_count": 17,
   "metadata": {
    "scrolled": true
   },
   "outputs": [
    {
     "data": {
      "text/plain": [
       "LeveneResult(statistic=14.832671704073421, pvalue=0.00012091378376079568)"
      ]
     },
     "execution_count": 17,
     "metadata": {},
     "output_type": "execute_result"
    }
   ],
   "source": [
    "#Levene Test for equal variance\n",
    "stats.levene(X, Y)"
   ]
  },
  {
   "cell_type": "markdown",
   "metadata": {},
   "source": [
    "The p-value of .0001 is less than than test statistic, so we reject the null hypothesis of equal variance.  For this reason we will use a one-sided Welch's t-test and an alpha of 0.025."
   ]
  },
  {
   "cell_type": "code",
   "execution_count": 18,
   "metadata": {},
   "outputs": [],
   "source": [
    "#Set alpha to 0.05/2 since running a 1-sided test\n",
    "alpha = 0.025\n",
    "#running Welch's t-test\n",
    "t, p = stats.ttest_ind(X,Y, equal_var=False)\n",
    "t, p"
   ]
  },
  {
   "cell_type": "code",
   "execution_count": 19,
   "metadata": {},
   "outputs": [
    {
     "data": {
      "text/plain": [
       "True"
      ]
     },
     "execution_count": 19,
     "metadata": {},
     "output_type": "execute_result"
    }
   ],
   "source": [
    "#Is p-value < alpha\n",
    "p < alpha"
   ]
  },
  {
   "cell_type": "code",
   "execution_count": 20,
   "metadata": {},
   "outputs": [],
   "source": [
    "def cohen_d(group1, group2):  \n",
    "  \n",
    "    diff = group1.mean() - group2.mean()\n",
    "\n",
    "    n1, n2 = len(group1), len(group2)\n",
    "    var1 = group1.var()\n",
    "    var2 = group2.var()\n",
    "\n",
    "    # Calculate the pooled threshold as shown earlier\n",
    "    pooled_var = (n1 * var1 + n2 * var2) / (n1 + n2)\n",
    "    \n",
    "    # Calculate Cohen's d statistic\n",
    "    d = diff / np.sqrt(pooled_var)\n",
    "    return d"
   ]
  },
  {
   "cell_type": "code",
   "execution_count": 21,
   "metadata": {},
   "outputs": [
    {
     "data": {
      "text/plain": [
       "0.2862724481729283"
      ]
     },
     "execution_count": 21,
     "metadata": {},
     "output_type": "execute_result"
    }
   ],
   "source": [
    "#calulating cohen's D\n",
    "cohen_d(Y,X)"
   ]
  },
  {
   "cell_type": "markdown",
   "metadata": {},
   "source": [
    "### Result: Reject the Null"
   ]
  },
  {
   "cell_type": "markdown",
   "metadata": {},
   "source": [
    "With a p-value less than alpha, we can reject the null hypothesis and conclude that **there is a statistically significant increase in the order of producs with a discount.**  Cohen's d statistic for our test is 0.28 which is a small to medium effect."
   ]
  },
  {
   "cell_type": "markdown",
   "metadata": {},
   "source": [
    "The second part of the question asks at what level of discount is there is significance.  "
   ]
  },
  {
   "cell_type": "markdown",
   "metadata": {},
   "source": [
    "### Question 1, Part 2 - Hypothesis:"
   ]
  },
  {
   "cell_type": "markdown",
   "metadata": {},
   "source": [
    "$H\\_0: \\mu_1 = \\mu_2\\ =\\mu_3 ...  = \\mu_k$  -- The average quantity of products per order is equal at all levels of discount\n",
    "\n",
    "$H\\_A: \\mu_1\\ \\neq\\  \\mu_2\\ \\neq\\ \\mu_3\\ ... \\neq\\ \\mu_k$ -- The average quantity of products per changes depending on level of discount"
   ]
  },
  {
   "cell_type": "code",
   "execution_count": 22,
   "metadata": {},
   "outputs": [
    {
     "data": {
      "text/plain": [
       "array([0.15, 0.05, 0.2 , 0.25, 0.1 ])"
      ]
     },
     "execution_count": 22,
     "metadata": {},
     "output_type": "execute_result"
    }
   ],
   "source": [
    "discount_levels = discounted['Discount'].unique()\n",
    "discount_levels"
   ]
  },
  {
   "cell_type": "code",
   "execution_count": 23,
   "metadata": {},
   "outputs": [
    {
     "data": {
      "text/html": [
       "<div>\n",
       "<style scoped>\n",
       "    .dataframe tbody tr th:only-of-type {\n",
       "        vertical-align: middle;\n",
       "    }\n",
       "\n",
       "    .dataframe tbody tr th {\n",
       "        vertical-align: top;\n",
       "    }\n",
       "\n",
       "    .dataframe thead th {\n",
       "        text-align: right;\n",
       "    }\n",
       "</style>\n",
       "<table border=\"1\" class=\"dataframe\">\n",
       "  <thead>\n",
       "    <tr style=\"text-align: right;\">\n",
       "      <th></th>\n",
       "      <th>Discount</th>\n",
       "      <th>Avg Quantity</th>\n",
       "    </tr>\n",
       "  </thead>\n",
       "  <tbody>\n",
       "    <tr>\n",
       "      <th>0</th>\n",
       "      <td>0.05</td>\n",
       "      <td>26.922280</td>\n",
       "    </tr>\n",
       "    <tr>\n",
       "      <th>1</th>\n",
       "      <td>0.10</td>\n",
       "      <td>25.236994</td>\n",
       "    </tr>\n",
       "    <tr>\n",
       "      <th>2</th>\n",
       "      <td>0.15</td>\n",
       "      <td>28.382166</td>\n",
       "    </tr>\n",
       "    <tr>\n",
       "      <th>3</th>\n",
       "      <td>0.20</td>\n",
       "      <td>27.024845</td>\n",
       "    </tr>\n",
       "    <tr>\n",
       "      <th>4</th>\n",
       "      <td>0.25</td>\n",
       "      <td>28.240260</td>\n",
       "    </tr>\n",
       "  </tbody>\n",
       "</table>\n",
       "</div>"
      ],
      "text/plain": [
       "   Discount  Avg Quantity\n",
       "0      0.05     26.922280\n",
       "1      0.10     25.236994\n",
       "2      0.15     28.382166\n",
       "3      0.20     27.024845\n",
       "4      0.25     28.240260"
      ]
     },
     "execution_count": 23,
     "metadata": {},
     "output_type": "execute_result"
    }
   ],
   "source": [
    "#Creating a small dataframe to see the average quantity per order by discount level\n",
    "x = [0.05, 0.10, 0.15, 0.20, 0.25]\n",
    "y = []\n",
    "for i in x:\n",
    "    y.append(discounted['Quantity'][discounted['Discount'] == i].mean())\n",
    "    \n",
    "df = pd.DataFrame(list(zip(x, y)), columns =['Discount', 'Avg Quantity']) \n",
    "df \n",
    "\n"
   ]
  },
  {
   "cell_type": "code",
   "execution_count": 24,
   "metadata": {},
   "outputs": [
    {
     "data": {
      "image/png": "[encoded data removed]",
      "text/plain": [
       "<Figure size 576x432 with 1 Axes>"
      ]
     },
     "metadata": {
      "needs_background": "light"
     },
     "output_type": "display_data"
    }
   ],
   "source": [
    "#Visualizing\n",
    "plt.figure(figsize=(8,6))\n",
    "plt.bar(x, y, align='center', width = .025)\n",
    "plt.title('Average Quantity per Order by Discount Level')\n",
    "plt.xlabel('Discount Level')\n",
    "plt.ylabel('Average Quantity')\n",
    "plt.show()"
   ]
  },
  {
   "cell_type": "markdown",
   "metadata": {},
   "source": [
    "For this part of the question, whether the amount of discount applied is statistically significant, we can use an ANOVA Test to compare our 5 distinct discount levels. We will use an alpha value of 0.05 for this test since it is 2-sided.  We will then compare our p-value to alpha to evaluate."
   ]
  },
  {
   "cell_type": "code",
   "execution_count": 25,
   "metadata": {},
   "outputs": [
    {
     "name": "stdout",
     "output_type": "stream",
     "text": [
      "                    sum_sq     df         F    PR(>F)\n",
      "C(Discount)    1065.701253    4.0  0.616376  0.650947\n",
      "Residual     360060.198508  833.0       NaN       NaN\n"
     ]
    },
    {
     "data": {
      "text/html": [
       "<table class=\"simpletable\">\n",
       "<caption>OLS Regression Results</caption>\n",
       "<tr>\n",
       "  <th>Dep. Variable:</th>        <td>Quantity</td>     <th>  R-squared:         </th> <td>   0.003</td>\n",
       "</tr>\n",
       "<tr>\n",
       "  <th>Model:</th>                   <td>OLS</td>       <th>  Adj. R-squared:    </th> <td>  -0.002</td>\n",
       "</tr>\n",
       "<tr>\n",
       "  <th>Method:</th>             <td>Least Squares</td>  <th>  F-statistic:       </th> <td>  0.6164</td>\n",
       "</tr>\n",
       "<tr>\n",
       "  <th>Date:</th>             <td>Sun, 16 Jun 2019</td> <th>  Prob (F-statistic):</th>  <td> 0.651</td> \n",
       "</tr>\n",
       "<tr>\n",
       "  <th>Time:</th>                 <td>21:39:25</td>     <th>  Log-Likelihood:    </th> <td> -3729.5</td>\n",
       "</tr>\n",
       "<tr>\n",
       "  <th>No. Observations:</th>      <td>   838</td>      <th>  AIC:               </th> <td>   7469.</td>\n",
       "</tr>\n",
       "<tr>\n",
       "  <th>Df Residuals:</th>          <td>   833</td>      <th>  BIC:               </th> <td>   7493.</td>\n",
       "</tr>\n",
       "<tr>\n",
       "  <th>Df Model:</th>              <td>     4</td>      <th>                     </th>     <td> </td>   \n",
       "</tr>\n",
       "<tr>\n",
       "  <th>Covariance Type:</th>      <td>nonrobust</td>    <th>                     </th>     <td> </td>   \n",
       "</tr>\n",
       "</table>\n",
       "<table class=\"simpletable\">\n",
       "<tr>\n",
       "           <td></td>              <th>coef</th>     <th>std err</th>      <th>t</th>      <th>P>|t|</th>  <th>[0.025</th>    <th>0.975]</th>  \n",
       "</tr>\n",
       "<tr>\n",
       "  <th>Intercept</th>           <td>   26.9223</td> <td>    1.497</td> <td>   17.990</td> <td> 0.000</td> <td>   23.985</td> <td>   29.860</td>\n",
       "</tr>\n",
       "<tr>\n",
       "  <th>C(Discount)[T.0.1]</th>  <td>   -1.6853</td> <td>    2.177</td> <td>   -0.774</td> <td> 0.439</td> <td>   -5.958</td> <td>    2.587</td>\n",
       "</tr>\n",
       "<tr>\n",
       "  <th>C(Discount)[T.0.15]</th> <td>    1.4599</td> <td>    2.234</td> <td>    0.653</td> <td> 0.514</td> <td>   -2.926</td> <td>    5.846</td>\n",
       "</tr>\n",
       "<tr>\n",
       "  <th>C(Discount)[T.0.2]</th>  <td>    0.1026</td> <td>    2.219</td> <td>    0.046</td> <td> 0.963</td> <td>   -4.253</td> <td>    4.458</td>\n",
       "</tr>\n",
       "<tr>\n",
       "  <th>C(Discount)[T.0.25]</th> <td>    1.3180</td> <td>    2.246</td> <td>    0.587</td> <td> 0.558</td> <td>   -3.091</td> <td>    5.727</td>\n",
       "</tr>\n",
       "</table>\n",
       "<table class=\"simpletable\">\n",
       "<tr>\n",
       "  <th>Omnibus:</th>       <td>265.156</td> <th>  Durbin-Watson:     </th> <td>   1.647</td> \n",
       "</tr>\n",
       "<tr>\n",
       "  <th>Prob(Omnibus):</th> <td> 0.000</td>  <th>  Jarque-Bera (JB):  </th> <td> 753.997</td> \n",
       "</tr>\n",
       "<tr>\n",
       "  <th>Skew:</th>          <td> 1.593</td>  <th>  Prob(JB):          </th> <td>1.87e-164</td>\n",
       "</tr>\n",
       "<tr>\n",
       "  <th>Kurtosis:</th>      <td> 6.383</td>  <th>  Cond. No.          </th> <td>    5.48</td> \n",
       "</tr>\n",
       "</table><br/><br/>Warnings:<br/>[1] Standard Errors assume that the covariance matrix of the errors is correctly specified."
      ],
      "text/plain": [
       "<class 'statsmodels.iolib.summary.Summary'>\n",
       "\"\"\"\n",
       "                            OLS Regression Results                            \n",
       "==============================================================================\n",
       "Dep. Variable:               Quantity   R-squared:                       0.003\n",
       "Model:                            OLS   Adj. R-squared:                 -0.002\n",
       "Method:                 Least Squares   F-statistic:                    0.6164\n",
       "Date:                Sun, 16 Jun 2019   Prob (F-statistic):              0.651\n",
       "Time:                        21:39:25   Log-Likelihood:                -3729.5\n",
       "No. Observations:                 838   AIC:                             7469.\n",
       "Df Residuals:                     833   BIC:                             7493.\n",
       "Df Model:                           4                                         \n",
       "Covariance Type:            nonrobust                                         \n",
       "=======================================================================================\n",
       "                          coef    std err          t      P>|t|      [0.025      0.975]\n",
       "---------------------------------------------------------------------------------------\n",
       "Intercept              26.9223      1.497     17.990      0.000      23.985      29.860\n",
       "C(Discount)[T.0.1]     -1.6853      2.177     -0.774      0.439      -5.958       2.587\n",
       "C(Discount)[T.0.15]     1.4599      2.234      0.653      0.514      -2.926       5.846\n",
       "C(Discount)[T.0.2]      0.1026      2.219      0.046      0.963      -4.253       4.458\n",
       "C(Discount)[T.0.25]     1.3180      2.246      0.587      0.558      -3.091       5.727\n",
       "==============================================================================\n",
       "Omnibus:                      265.156   Durbin-Watson:                   1.647\n",
       "Prob(Omnibus):                  0.000   Jarque-Bera (JB):              753.997\n",
       "Skew:                           1.593   Prob(JB):                    1.87e-164\n",
       "Kurtosis:                       6.383   Cond. No.                         5.48\n",
       "==============================================================================\n",
       "\n",
       "Warnings:\n",
       "[1] Standard Errors assume that the covariance matrix of the errors is correctly specified.\n",
       "\"\"\""
      ]
     },
     "execution_count": 25,
     "metadata": {},
     "output_type": "execute_result"
    }
   ],
   "source": [
    "formula = 'Quantity ~ C(Discount)'\n",
    "lm = ols(formula, discounted).fit()\n",
    "table = sm.stats.anova_lm(lm, typ=2)\n",
    "print(table)\n",
    "lm.summary()"
   ]
  },
  {
   "cell_type": "code",
   "execution_count": 26,
   "metadata": {},
   "outputs": [
    {
     "data": {
      "text/plain": [
       "34    16\n",
       "36    15\n",
       "37    21\n",
       "43    60\n",
       "45    60\n",
       "Name: Quantity, dtype: int64"
      ]
     },
     "execution_count": 26,
     "metadata": {},
     "output_type": "execute_result"
    }
   ],
   "source": [
    "#Breaking data up into each level of discount.\n",
    "five_percent = orders_discounts[orders_discounts['Discount'] == 0.05].Quantity\n",
    "ten_percent = orders_discounts[orders_discounts['Discount'] == 0.10].Quantity\n",
    "fifteen_percent = orders_discounts[orders_discounts['Discount'] == 0.15].Quantity\n",
    "twenty_percent = orders_discounts[orders_discounts['Discount'] == 0.20].Quantity\n",
    "twentyfive_percent = orders_discounts[orders_discounts['Discount'] == 0.25].Quantity\n",
    "twentyfive_percent.head()\n",
    "#len(five_percent), len(ten_percent), len(fifteen_percent), len(twenty_percent), len(twentyfive_percent)\n"
   ]
  },
  {
   "cell_type": "code",
   "execution_count": 27,
   "metadata": {},
   "outputs": [
    {
     "name": "stdout",
     "output_type": "stream",
     "text": [
      "F_onewayResult(statistic=0.6163755029370473, pvalue=0.6509473814318465)\n"
     ]
    }
   ],
   "source": [
    "#Another way to run the Anova test, just for comparison.  Gives the same p-value.\n",
    "print(stats.f_oneway(five_percent, ten_percent, fifteen_percent, twenty_percent, twentyfive_percent))\n"
   ]
  },
  {
   "cell_type": "markdown",
   "metadata": {},
   "source": [
    "### Result: Fail to Reject the Null"
   ]
  },
  {
   "cell_type": "markdown",
   "metadata": {},
   "source": [
    "With a p-value of 0.651, much greater than our alpha of 0.05, we cannot reject the null hypothesis that the quantity per order is equal for the 5 levels of discounts.   **There is not a statistically significant difference between levels of discount.**"
   ]
  },
  {
   "cell_type": "markdown",
   "metadata": {},
   "source": [
    "### Recommendations/Further Study:\n"
   ]
  },
  {
   "cell_type": "markdown",
   "metadata": {},
   "source": [
    "Our Hypotheis Testing in Question 1 shows that there is a statistically significant increase in average quantity per order when a discount is applied, but the magnitude of the discount does not have a significant effect.  Accordingly, Northwind should continue offering discounts where it is economically valuable but limit the degree of the discount. Customers order more when they think they are getting a good deal, regardless of how good the deal.  \n",
    "\n",
    "Further work should be done to measure effects of discounts on revenue and not just number of products ordered.  Perhaps certain products are more prone to an increase in sales and therefore revenue than others."
   ]
  },
  {
   "cell_type": "markdown",
   "metadata": {},
   "source": [
    "## Question 2: Does Northwind sell more alcoholic or non-alcoholic beverages?"
   ]
  },
  {
   "cell_type": "code",
   "execution_count": 28,
   "metadata": {},
   "outputs": [
    {
     "name": "stdout",
     "output_type": "stream",
     "text": [
      "2019-06-16 21:39:25,388 INFO sqlalchemy.engine.base.Engine SELECT CategoryName, Description FROM Category\n",
      "2019-06-16 21:39:25,389 INFO sqlalchemy.engine.base.Engine ()\n"
     ]
    }
   ],
   "source": [
    "categories = pd.read_sql_query('''SELECT CategoryName, Description FROM Category''', engine)"
   ]
  },
  {
   "cell_type": "code",
   "execution_count": 29,
   "metadata": {},
   "outputs": [
    {
     "data": {
      "text/html": [
       "<div>\n",
       "<style scoped>\n",
       "    .dataframe tbody tr th:only-of-type {\n",
       "        vertical-align: middle;\n",
       "    }\n",
       "\n",
       "    .dataframe tbody tr th {\n",
       "        vertical-align: top;\n",
       "    }\n",
       "\n",
       "    .dataframe thead th {\n",
       "        text-align: right;\n",
       "    }\n",
       "</style>\n",
       "<table border=\"1\" class=\"dataframe\">\n",
       "  <thead>\n",
       "    <tr style=\"text-align: right;\">\n",
       "      <th></th>\n",
       "      <th>CategoryName</th>\n",
       "      <th>Description</th>\n",
       "    </tr>\n",
       "  </thead>\n",
       "  <tbody>\n",
       "    <tr>\n",
       "      <th>0</th>\n",
       "      <td>Beverages</td>\n",
       "      <td>Soft drinks, coffees, teas, beers, and ales</td>\n",
       "    </tr>\n",
       "    <tr>\n",
       "      <th>1</th>\n",
       "      <td>Condiments</td>\n",
       "      <td>Sweet and savory sauces, relishes, spreads, an...</td>\n",
       "    </tr>\n",
       "    <tr>\n",
       "      <th>2</th>\n",
       "      <td>Confections</td>\n",
       "      <td>Desserts, candies, and sweet breads</td>\n",
       "    </tr>\n",
       "    <tr>\n",
       "      <th>3</th>\n",
       "      <td>Dairy Products</td>\n",
       "      <td>Cheeses</td>\n",
       "    </tr>\n",
       "    <tr>\n",
       "      <th>4</th>\n",
       "      <td>Grains/Cereals</td>\n",
       "      <td>Breads, crackers, pasta, and cereal</td>\n",
       "    </tr>\n",
       "    <tr>\n",
       "      <th>5</th>\n",
       "      <td>Meat/Poultry</td>\n",
       "      <td>Prepared meats</td>\n",
       "    </tr>\n",
       "    <tr>\n",
       "      <th>6</th>\n",
       "      <td>Produce</td>\n",
       "      <td>Dried fruit and bean curd</td>\n",
       "    </tr>\n",
       "    <tr>\n",
       "      <th>7</th>\n",
       "      <td>Seafood</td>\n",
       "      <td>Seaweed and fish</td>\n",
       "    </tr>\n",
       "  </tbody>\n",
       "</table>\n",
       "</div>"
      ],
      "text/plain": [
       "     CategoryName                                        Description\n",
       "0       Beverages        Soft drinks, coffees, teas, beers, and ales\n",
       "1      Condiments  Sweet and savory sauces, relishes, spreads, an...\n",
       "2     Confections                Desserts, candies, and sweet breads\n",
       "3  Dairy Products                                            Cheeses\n",
       "4  Grains/Cereals                Breads, crackers, pasta, and cereal\n",
       "5    Meat/Poultry                                     Prepared meats\n",
       "6         Produce                          Dried fruit and bean curd\n",
       "7         Seafood                                   Seaweed and fish"
      ]
     },
     "execution_count": 29,
     "metadata": {},
     "output_type": "execute_result"
    }
   ],
   "source": [
    "#Viewing Categories of Products sold by Northwind\n",
    "categories"
   ]
  },
  {
   "cell_type": "code",
   "execution_count": 30,
   "metadata": {},
   "outputs": [
    {
     "name": "stdout",
     "output_type": "stream",
     "text": [
      "2019-06-16 21:39:25,427 INFO sqlalchemy.engine.base.Engine SELECT c.CategoryName, p.ProductName, p.UnitPrice, od.Quantity, od.Discount FROM \n",
      "                                    Category c JOIN Product p ON c.ID = p.CategoryId\n",
      "                                    JOIN OrderDetail od ON p.ID = od.ProductID WHERE\n",
      "                                    CategoryName = \"Beverages\"\n",
      "                                    ORDER BY p.ProductName\n",
      "2019-06-16 21:39:25,428 INFO sqlalchemy.engine.base.Engine ()\n"
     ]
    }
   ],
   "source": [
    "#Making a dataframe of beverages sales by product\n",
    "bev_product_sales = pd.read_sql_query('''SELECT c.CategoryName, p.ProductName, p.UnitPrice, od.Quantity, od.Discount FROM \n",
    "                                    Category c JOIN Product p ON c.ID = p.CategoryId\n",
    "                                    JOIN OrderDetail od ON p.ID = od.ProductID WHERE\n",
    "                                    CategoryName = \"Beverages\"\n",
    "                                    ORDER BY p.ProductName''', engine)"
   ]
  },
  {
   "cell_type": "code",
   "execution_count": 31,
   "metadata": {},
   "outputs": [
    {
     "data": {
      "text/html": [
       "<div>\n",
       "<style scoped>\n",
       "    .dataframe tbody tr th:only-of-type {\n",
       "        vertical-align: middle;\n",
       "    }\n",
       "\n",
       "    .dataframe tbody tr th {\n",
       "        vertical-align: top;\n",
       "    }\n",
       "\n",
       "    .dataframe thead th {\n",
       "        text-align: right;\n",
       "    }\n",
       "</style>\n",
       "<table border=\"1\" class=\"dataframe\">\n",
       "  <thead>\n",
       "    <tr style=\"text-align: right;\">\n",
       "      <th></th>\n",
       "      <th>CategoryName</th>\n",
       "      <th>ProductName</th>\n",
       "      <th>UnitPrice</th>\n",
       "      <th>Quantity</th>\n",
       "      <th>Discount</th>\n",
       "    </tr>\n",
       "  </thead>\n",
       "  <tbody>\n",
       "    <tr>\n",
       "      <th>0</th>\n",
       "      <td>Beverages</td>\n",
       "      <td>Chai</td>\n",
       "      <td>18.0</td>\n",
       "      <td>45</td>\n",
       "      <td>0.20</td>\n",
       "    </tr>\n",
       "    <tr>\n",
       "      <th>1</th>\n",
       "      <td>Beverages</td>\n",
       "      <td>Chai</td>\n",
       "      <td>18.0</td>\n",
       "      <td>18</td>\n",
       "      <td>0.00</td>\n",
       "    </tr>\n",
       "    <tr>\n",
       "      <th>2</th>\n",
       "      <td>Beverages</td>\n",
       "      <td>Chai</td>\n",
       "      <td>18.0</td>\n",
       "      <td>20</td>\n",
       "      <td>0.00</td>\n",
       "    </tr>\n",
       "    <tr>\n",
       "      <th>3</th>\n",
       "      <td>Beverages</td>\n",
       "      <td>Chai</td>\n",
       "      <td>18.0</td>\n",
       "      <td>15</td>\n",
       "      <td>0.15</td>\n",
       "    </tr>\n",
       "    <tr>\n",
       "      <th>4</th>\n",
       "      <td>Beverages</td>\n",
       "      <td>Chai</td>\n",
       "      <td>18.0</td>\n",
       "      <td>12</td>\n",
       "      <td>0.00</td>\n",
       "    </tr>\n",
       "    <tr>\n",
       "      <th>5</th>\n",
       "      <td>Beverages</td>\n",
       "      <td>Chai</td>\n",
       "      <td>18.0</td>\n",
       "      <td>15</td>\n",
       "      <td>0.15</td>\n",
       "    </tr>\n",
       "    <tr>\n",
       "      <th>6</th>\n",
       "      <td>Beverages</td>\n",
       "      <td>Chai</td>\n",
       "      <td>18.0</td>\n",
       "      <td>10</td>\n",
       "      <td>0.00</td>\n",
       "    </tr>\n",
       "    <tr>\n",
       "      <th>7</th>\n",
       "      <td>Beverages</td>\n",
       "      <td>Chai</td>\n",
       "      <td>18.0</td>\n",
       "      <td>24</td>\n",
       "      <td>0.00</td>\n",
       "    </tr>\n",
       "    <tr>\n",
       "      <th>8</th>\n",
       "      <td>Beverages</td>\n",
       "      <td>Chai</td>\n",
       "      <td>18.0</td>\n",
       "      <td>15</td>\n",
       "      <td>0.00</td>\n",
       "    </tr>\n",
       "    <tr>\n",
       "      <th>9</th>\n",
       "      <td>Beverages</td>\n",
       "      <td>Chai</td>\n",
       "      <td>18.0</td>\n",
       "      <td>40</td>\n",
       "      <td>0.20</td>\n",
       "    </tr>\n",
       "    <tr>\n",
       "      <th>10</th>\n",
       "      <td>Beverages</td>\n",
       "      <td>Chai</td>\n",
       "      <td>18.0</td>\n",
       "      <td>8</td>\n",
       "      <td>0.15</td>\n",
       "    </tr>\n",
       "    <tr>\n",
       "      <th>11</th>\n",
       "      <td>Beverages</td>\n",
       "      <td>Chai</td>\n",
       "      <td>18.0</td>\n",
       "      <td>10</td>\n",
       "      <td>0.00</td>\n",
       "    </tr>\n",
       "    <tr>\n",
       "      <th>12</th>\n",
       "      <td>Beverages</td>\n",
       "      <td>Chai</td>\n",
       "      <td>18.0</td>\n",
       "      <td>20</td>\n",
       "      <td>0.00</td>\n",
       "    </tr>\n",
       "    <tr>\n",
       "      <th>13</th>\n",
       "      <td>Beverages</td>\n",
       "      <td>Chai</td>\n",
       "      <td>18.0</td>\n",
       "      <td>3</td>\n",
       "      <td>0.00</td>\n",
       "    </tr>\n",
       "    <tr>\n",
       "      <th>14</th>\n",
       "      <td>Beverages</td>\n",
       "      <td>Chai</td>\n",
       "      <td>18.0</td>\n",
       "      <td>6</td>\n",
       "      <td>0.00</td>\n",
       "    </tr>\n",
       "    <tr>\n",
       "      <th>15</th>\n",
       "      <td>Beverages</td>\n",
       "      <td>Chai</td>\n",
       "      <td>18.0</td>\n",
       "      <td>25</td>\n",
       "      <td>0.00</td>\n",
       "    </tr>\n",
       "    <tr>\n",
       "      <th>16</th>\n",
       "      <td>Beverages</td>\n",
       "      <td>Chai</td>\n",
       "      <td>18.0</td>\n",
       "      <td>15</td>\n",
       "      <td>0.25</td>\n",
       "    </tr>\n",
       "    <tr>\n",
       "      <th>17</th>\n",
       "      <td>Beverages</td>\n",
       "      <td>Chai</td>\n",
       "      <td>18.0</td>\n",
       "      <td>35</td>\n",
       "      <td>0.25</td>\n",
       "    </tr>\n",
       "    <tr>\n",
       "      <th>18</th>\n",
       "      <td>Beverages</td>\n",
       "      <td>Chai</td>\n",
       "      <td>18.0</td>\n",
       "      <td>30</td>\n",
       "      <td>0.00</td>\n",
       "    </tr>\n",
       "    <tr>\n",
       "      <th>19</th>\n",
       "      <td>Beverages</td>\n",
       "      <td>Chai</td>\n",
       "      <td>18.0</td>\n",
       "      <td>5</td>\n",
       "      <td>0.20</td>\n",
       "    </tr>\n",
       "    <tr>\n",
       "      <th>20</th>\n",
       "      <td>Beverages</td>\n",
       "      <td>Chai</td>\n",
       "      <td>18.0</td>\n",
       "      <td>50</td>\n",
       "      <td>0.00</td>\n",
       "    </tr>\n",
       "    <tr>\n",
       "      <th>21</th>\n",
       "      <td>Beverages</td>\n",
       "      <td>Chai</td>\n",
       "      <td>18.0</td>\n",
       "      <td>8</td>\n",
       "      <td>0.00</td>\n",
       "    </tr>\n",
       "    <tr>\n",
       "      <th>22</th>\n",
       "      <td>Beverages</td>\n",
       "      <td>Chai</td>\n",
       "      <td>18.0</td>\n",
       "      <td>4</td>\n",
       "      <td>0.25</td>\n",
       "    </tr>\n",
       "    <tr>\n",
       "      <th>23</th>\n",
       "      <td>Beverages</td>\n",
       "      <td>Chai</td>\n",
       "      <td>18.0</td>\n",
       "      <td>80</td>\n",
       "      <td>0.20</td>\n",
       "    </tr>\n",
       "    <tr>\n",
       "      <th>24</th>\n",
       "      <td>Beverages</td>\n",
       "      <td>Chai</td>\n",
       "      <td>18.0</td>\n",
       "      <td>20</td>\n",
       "      <td>0.15</td>\n",
       "    </tr>\n",
       "    <tr>\n",
       "      <th>25</th>\n",
       "      <td>Beverages</td>\n",
       "      <td>Chai</td>\n",
       "      <td>18.0</td>\n",
       "      <td>40</td>\n",
       "      <td>0.00</td>\n",
       "    </tr>\n",
       "    <tr>\n",
       "      <th>26</th>\n",
       "      <td>Beverages</td>\n",
       "      <td>Chai</td>\n",
       "      <td>18.0</td>\n",
       "      <td>20</td>\n",
       "      <td>0.05</td>\n",
       "    </tr>\n",
       "    <tr>\n",
       "      <th>27</th>\n",
       "      <td>Beverages</td>\n",
       "      <td>Chai</td>\n",
       "      <td>18.0</td>\n",
       "      <td>10</td>\n",
       "      <td>0.00</td>\n",
       "    </tr>\n",
       "    <tr>\n",
       "      <th>28</th>\n",
       "      <td>Beverages</td>\n",
       "      <td>Chai</td>\n",
       "      <td>18.0</td>\n",
       "      <td>60</td>\n",
       "      <td>0.25</td>\n",
       "    </tr>\n",
       "    <tr>\n",
       "      <th>29</th>\n",
       "      <td>Beverages</td>\n",
       "      <td>Chai</td>\n",
       "      <td>18.0</td>\n",
       "      <td>21</td>\n",
       "      <td>0.00</td>\n",
       "    </tr>\n",
       "    <tr>\n",
       "      <th>...</th>\n",
       "      <td>...</td>\n",
       "      <td>...</td>\n",
       "      <td>...</td>\n",
       "      <td>...</td>\n",
       "      <td>...</td>\n",
       "    </tr>\n",
       "    <tr>\n",
       "      <th>374</th>\n",
       "      <td>Beverages</td>\n",
       "      <td>Steeleye Stout</td>\n",
       "      <td>18.0</td>\n",
       "      <td>30</td>\n",
       "      <td>0.00</td>\n",
       "    </tr>\n",
       "    <tr>\n",
       "      <th>375</th>\n",
       "      <td>Beverages</td>\n",
       "      <td>Steeleye Stout</td>\n",
       "      <td>18.0</td>\n",
       "      <td>35</td>\n",
       "      <td>0.00</td>\n",
       "    </tr>\n",
       "    <tr>\n",
       "      <th>376</th>\n",
       "      <td>Beverages</td>\n",
       "      <td>Steeleye Stout</td>\n",
       "      <td>18.0</td>\n",
       "      <td>60</td>\n",
       "      <td>0.20</td>\n",
       "    </tr>\n",
       "    <tr>\n",
       "      <th>377</th>\n",
       "      <td>Beverages</td>\n",
       "      <td>Steeleye Stout</td>\n",
       "      <td>18.0</td>\n",
       "      <td>8</td>\n",
       "      <td>0.00</td>\n",
       "    </tr>\n",
       "    <tr>\n",
       "      <th>378</th>\n",
       "      <td>Beverages</td>\n",
       "      <td>Steeleye Stout</td>\n",
       "      <td>18.0</td>\n",
       "      <td>3</td>\n",
       "      <td>0.00</td>\n",
       "    </tr>\n",
       "    <tr>\n",
       "      <th>379</th>\n",
       "      <td>Beverages</td>\n",
       "      <td>Steeleye Stout</td>\n",
       "      <td>18.0</td>\n",
       "      <td>30</td>\n",
       "      <td>0.00</td>\n",
       "    </tr>\n",
       "    <tr>\n",
       "      <th>380</th>\n",
       "      <td>Beverages</td>\n",
       "      <td>Steeleye Stout</td>\n",
       "      <td>18.0</td>\n",
       "      <td>20</td>\n",
       "      <td>0.15</td>\n",
       "    </tr>\n",
       "    <tr>\n",
       "      <th>381</th>\n",
       "      <td>Beverages</td>\n",
       "      <td>Steeleye Stout</td>\n",
       "      <td>18.0</td>\n",
       "      <td>6</td>\n",
       "      <td>0.00</td>\n",
       "    </tr>\n",
       "    <tr>\n",
       "      <th>382</th>\n",
       "      <td>Beverages</td>\n",
       "      <td>Steeleye Stout</td>\n",
       "      <td>18.0</td>\n",
       "      <td>20</td>\n",
       "      <td>0.00</td>\n",
       "    </tr>\n",
       "    <tr>\n",
       "      <th>383</th>\n",
       "      <td>Beverages</td>\n",
       "      <td>Steeleye Stout</td>\n",
       "      <td>18.0</td>\n",
       "      <td>20</td>\n",
       "      <td>0.00</td>\n",
       "    </tr>\n",
       "    <tr>\n",
       "      <th>384</th>\n",
       "      <td>Beverages</td>\n",
       "      <td>Steeleye Stout</td>\n",
       "      <td>18.0</td>\n",
       "      <td>4</td>\n",
       "      <td>0.00</td>\n",
       "    </tr>\n",
       "    <tr>\n",
       "      <th>385</th>\n",
       "      <td>Beverages</td>\n",
       "      <td>Steeleye Stout</td>\n",
       "      <td>18.0</td>\n",
       "      <td>30</td>\n",
       "      <td>0.25</td>\n",
       "    </tr>\n",
       "    <tr>\n",
       "      <th>386</th>\n",
       "      <td>Beverages</td>\n",
       "      <td>Steeleye Stout</td>\n",
       "      <td>18.0</td>\n",
       "      <td>30</td>\n",
       "      <td>0.10</td>\n",
       "    </tr>\n",
       "    <tr>\n",
       "      <th>387</th>\n",
       "      <td>Beverages</td>\n",
       "      <td>Steeleye Stout</td>\n",
       "      <td>18.0</td>\n",
       "      <td>9</td>\n",
       "      <td>0.25</td>\n",
       "    </tr>\n",
       "    <tr>\n",
       "      <th>388</th>\n",
       "      <td>Beverages</td>\n",
       "      <td>Steeleye Stout</td>\n",
       "      <td>18.0</td>\n",
       "      <td>21</td>\n",
       "      <td>0.00</td>\n",
       "    </tr>\n",
       "    <tr>\n",
       "      <th>389</th>\n",
       "      <td>Beverages</td>\n",
       "      <td>Steeleye Stout</td>\n",
       "      <td>18.0</td>\n",
       "      <td>35</td>\n",
       "      <td>0.20</td>\n",
       "    </tr>\n",
       "    <tr>\n",
       "      <th>390</th>\n",
       "      <td>Beverages</td>\n",
       "      <td>Steeleye Stout</td>\n",
       "      <td>18.0</td>\n",
       "      <td>15</td>\n",
       "      <td>0.00</td>\n",
       "    </tr>\n",
       "    <tr>\n",
       "      <th>391</th>\n",
       "      <td>Beverages</td>\n",
       "      <td>Steeleye Stout</td>\n",
       "      <td>18.0</td>\n",
       "      <td>20</td>\n",
       "      <td>0.00</td>\n",
       "    </tr>\n",
       "    <tr>\n",
       "      <th>392</th>\n",
       "      <td>Beverages</td>\n",
       "      <td>Steeleye Stout</td>\n",
       "      <td>18.0</td>\n",
       "      <td>8</td>\n",
       "      <td>0.00</td>\n",
       "    </tr>\n",
       "    <tr>\n",
       "      <th>393</th>\n",
       "      <td>Beverages</td>\n",
       "      <td>Steeleye Stout</td>\n",
       "      <td>18.0</td>\n",
       "      <td>6</td>\n",
       "      <td>0.00</td>\n",
       "    </tr>\n",
       "    <tr>\n",
       "      <th>394</th>\n",
       "      <td>Beverages</td>\n",
       "      <td>Steeleye Stout</td>\n",
       "      <td>18.0</td>\n",
       "      <td>25</td>\n",
       "      <td>0.10</td>\n",
       "    </tr>\n",
       "    <tr>\n",
       "      <th>395</th>\n",
       "      <td>Beverages</td>\n",
       "      <td>Steeleye Stout</td>\n",
       "      <td>18.0</td>\n",
       "      <td>4</td>\n",
       "      <td>0.00</td>\n",
       "    </tr>\n",
       "    <tr>\n",
       "      <th>396</th>\n",
       "      <td>Beverages</td>\n",
       "      <td>Steeleye Stout</td>\n",
       "      <td>18.0</td>\n",
       "      <td>30</td>\n",
       "      <td>0.00</td>\n",
       "    </tr>\n",
       "    <tr>\n",
       "      <th>397</th>\n",
       "      <td>Beverages</td>\n",
       "      <td>Steeleye Stout</td>\n",
       "      <td>18.0</td>\n",
       "      <td>3</td>\n",
       "      <td>0.00</td>\n",
       "    </tr>\n",
       "    <tr>\n",
       "      <th>398</th>\n",
       "      <td>Beverages</td>\n",
       "      <td>Steeleye Stout</td>\n",
       "      <td>18.0</td>\n",
       "      <td>10</td>\n",
       "      <td>0.00</td>\n",
       "    </tr>\n",
       "    <tr>\n",
       "      <th>399</th>\n",
       "      <td>Beverages</td>\n",
       "      <td>Steeleye Stout</td>\n",
       "      <td>18.0</td>\n",
       "      <td>40</td>\n",
       "      <td>0.00</td>\n",
       "    </tr>\n",
       "    <tr>\n",
       "      <th>400</th>\n",
       "      <td>Beverages</td>\n",
       "      <td>Steeleye Stout</td>\n",
       "      <td>18.0</td>\n",
       "      <td>15</td>\n",
       "      <td>0.15</td>\n",
       "    </tr>\n",
       "    <tr>\n",
       "      <th>401</th>\n",
       "      <td>Beverages</td>\n",
       "      <td>Steeleye Stout</td>\n",
       "      <td>18.0</td>\n",
       "      <td>60</td>\n",
       "      <td>0.00</td>\n",
       "    </tr>\n",
       "    <tr>\n",
       "      <th>402</th>\n",
       "      <td>Beverages</td>\n",
       "      <td>Steeleye Stout</td>\n",
       "      <td>18.0</td>\n",
       "      <td>24</td>\n",
       "      <td>0.00</td>\n",
       "    </tr>\n",
       "    <tr>\n",
       "      <th>403</th>\n",
       "      <td>Beverages</td>\n",
       "      <td>Steeleye Stout</td>\n",
       "      <td>18.0</td>\n",
       "      <td>18</td>\n",
       "      <td>0.05</td>\n",
       "    </tr>\n",
       "  </tbody>\n",
       "</table>\n",
       "<p>404 rows × 5 columns</p>\n",
       "</div>"
      ],
      "text/plain": [
       "    CategoryName     ProductName  UnitPrice  Quantity  Discount\n",
       "0      Beverages            Chai       18.0        45      0.20\n",
       "1      Beverages            Chai       18.0        18      0.00\n",
       "2      Beverages            Chai       18.0        20      0.00\n",
       "3      Beverages            Chai       18.0        15      0.15\n",
       "4      Beverages            Chai       18.0        12      0.00\n",
       "5      Beverages            Chai       18.0        15      0.15\n",
       "6      Beverages            Chai       18.0        10      0.00\n",
       "7      Beverages            Chai       18.0        24      0.00\n",
       "8      Beverages            Chai       18.0        15      0.00\n",
       "9      Beverages            Chai       18.0        40      0.20\n",
       "10     Beverages            Chai       18.0         8      0.15\n",
       "11     Beverages            Chai       18.0        10      0.00\n",
       "12     Beverages            Chai       18.0        20      0.00\n",
       "13     Beverages            Chai       18.0         3      0.00\n",
       "14     Beverages            Chai       18.0         6      0.00\n",
       "15     Beverages            Chai       18.0        25      0.00\n",
       "16     Beverages            Chai       18.0        15      0.25\n",
       "17     Beverages            Chai       18.0        35      0.25\n",
       "18     Beverages            Chai       18.0        30      0.00\n",
       "19     Beverages            Chai       18.0         5      0.20\n",
       "20     Beverages            Chai       18.0        50      0.00\n",
       "21     Beverages            Chai       18.0         8      0.00\n",
       "22     Beverages            Chai       18.0         4      0.25\n",
       "23     Beverages            Chai       18.0        80      0.20\n",
       "24     Beverages            Chai       18.0        20      0.15\n",
       "25     Beverages            Chai       18.0        40      0.00\n",
       "26     Beverages            Chai       18.0        20      0.05\n",
       "27     Beverages            Chai       18.0        10      0.00\n",
       "28     Beverages            Chai       18.0        60      0.25\n",
       "29     Beverages            Chai       18.0        21      0.00\n",
       "..           ...             ...        ...       ...       ...\n",
       "374    Beverages  Steeleye Stout       18.0        30      0.00\n",
       "375    Beverages  Steeleye Stout       18.0        35      0.00\n",
       "376    Beverages  Steeleye Stout       18.0        60      0.20\n",
       "377    Beverages  Steeleye Stout       18.0         8      0.00\n",
       "378    Beverages  Steeleye Stout       18.0         3      0.00\n",
       "379    Beverages  Steeleye Stout       18.0        30      0.00\n",
       "380    Beverages  Steeleye Stout       18.0        20      0.15\n",
       "381    Beverages  Steeleye Stout       18.0         6      0.00\n",
       "382    Beverages  Steeleye Stout       18.0        20      0.00\n",
       "383    Beverages  Steeleye Stout       18.0        20      0.00\n",
       "384    Beverages  Steeleye Stout       18.0         4      0.00\n",
       "385    Beverages  Steeleye Stout       18.0        30      0.25\n",
       "386    Beverages  Steeleye Stout       18.0        30      0.10\n",
       "387    Beverages  Steeleye Stout       18.0         9      0.25\n",
       "388    Beverages  Steeleye Stout       18.0        21      0.00\n",
       "389    Beverages  Steeleye Stout       18.0        35      0.20\n",
       "390    Beverages  Steeleye Stout       18.0        15      0.00\n",
       "391    Beverages  Steeleye Stout       18.0        20      0.00\n",
       "392    Beverages  Steeleye Stout       18.0         8      0.00\n",
       "393    Beverages  Steeleye Stout       18.0         6      0.00\n",
       "394    Beverages  Steeleye Stout       18.0        25      0.10\n",
       "395    Beverages  Steeleye Stout       18.0         4      0.00\n",
       "396    Beverages  Steeleye Stout       18.0        30      0.00\n",
       "397    Beverages  Steeleye Stout       18.0         3      0.00\n",
       "398    Beverages  Steeleye Stout       18.0        10      0.00\n",
       "399    Beverages  Steeleye Stout       18.0        40      0.00\n",
       "400    Beverages  Steeleye Stout       18.0        15      0.15\n",
       "401    Beverages  Steeleye Stout       18.0        60      0.00\n",
       "402    Beverages  Steeleye Stout       18.0        24      0.00\n",
       "403    Beverages  Steeleye Stout       18.0        18      0.05\n",
       "\n",
       "[404 rows x 5 columns]"
      ]
     },
     "execution_count": 31,
     "metadata": {},
     "output_type": "execute_result"
    }
   ],
   "source": [
    "#Viewing our new dataframe\n",
    "bev_product_sales"
   ]
  },
  {
   "cell_type": "code",
   "execution_count": 32,
   "metadata": {},
   "outputs": [
    {
     "data": {
      "text/plain": [
       "Guaraná Fantástica           51\n",
       "Rhönbräu Klosterbier         46\n",
       "Chang                        44\n",
       "Lakkalikööri                 39\n",
       "Outback Lager                39\n",
       "Chai                         38\n",
       "Steeleye Stout               36\n",
       "Chartreuse verte             30\n",
       "Ipoh Coffee                  28\n",
       "Côte de Blaye                24\n",
       "Sasquatch Ale                19\n",
       "Laughing Lumberjack Lager    10\n",
       "Name: ProductName, dtype: int64"
      ]
     },
     "execution_count": 32,
     "metadata": {},
     "output_type": "execute_result"
    }
   ],
   "source": [
    "#How many orders contained each Beverage product?\n",
    "bev_product_sales['ProductName'].value_counts()"
   ]
  },
  {
   "cell_type": "code",
   "execution_count": 33,
   "metadata": {},
   "outputs": [
    {
     "data": {
      "text/plain": [
       "(9, 3)"
      ]
     },
     "execution_count": 33,
     "metadata": {},
     "output_type": "execute_result"
    }
   ],
   "source": [
    "#making lists of beverages by alcoholic or non-alcoholic\n",
    "alc = ['Chang', 'Chartreuse verte', 'Côte de Blaye', 'Lakkalikööri', 'Laughing Lumberjack Lager', 'Outback Lager', 'Rhönbräu Klosterbier', 'Sasquatch Ale', 'Steeleye Stout']\n",
    "non_alc = ['Chai', 'Guaraná Fantástica', 'Ipoh Coffee']\n",
    "len(alc), len(non_alc)"
   ]
  },
  {
   "cell_type": "markdown",
   "metadata": {},
   "source": [
    "Northwind sells 9 types of alcoholic beverage and 3 types of non-alcoholic beverage."
   ]
  },
  {
   "cell_type": "code",
   "execution_count": 34,
   "metadata": {},
   "outputs": [],
   "source": [
    "#Split the data into alcoholic and non-alcoholic dataframes\n",
    "alc_sales = bev_product_sales[bev_product_sales['ProductName'].isin(alc)]\n",
    "non_alc_sales = bev_product_sales[bev_product_sales['ProductName'].isin(non_alc)]\n"
   ]
  },
  {
   "cell_type": "markdown",
   "metadata": {},
   "source": [
    "### Beverage Sales by Revenue:"
   ]
  },
  {
   "cell_type": "code",
   "execution_count": 35,
   "metadata": {},
   "outputs": [
    {
     "data": {
      "text/html": [
       "<div>\n",
       "<style scoped>\n",
       "    .dataframe tbody tr th:only-of-type {\n",
       "        vertical-align: middle;\n",
       "    }\n",
       "\n",
       "    .dataframe tbody tr th {\n",
       "        vertical-align: top;\n",
       "    }\n",
       "\n",
       "    .dataframe thead th {\n",
       "        text-align: right;\n",
       "    }\n",
       "</style>\n",
       "<table border=\"1\" class=\"dataframe\">\n",
       "  <thead>\n",
       "    <tr style=\"text-align: right;\">\n",
       "      <th></th>\n",
       "      <th>CategoryName</th>\n",
       "      <th>ProductName</th>\n",
       "      <th>UnitPrice</th>\n",
       "      <th>Quantity</th>\n",
       "      <th>Discount</th>\n",
       "      <th>Revenue</th>\n",
       "    </tr>\n",
       "  </thead>\n",
       "  <tbody>\n",
       "    <tr>\n",
       "      <th>38</th>\n",
       "      <td>Beverages</td>\n",
       "      <td>Chang</td>\n",
       "      <td>19.0</td>\n",
       "      <td>20</td>\n",
       "      <td>0.0</td>\n",
       "      <td>380.0</td>\n",
       "    </tr>\n",
       "    <tr>\n",
       "      <th>39</th>\n",
       "      <td>Beverages</td>\n",
       "      <td>Chang</td>\n",
       "      <td>19.0</td>\n",
       "      <td>50</td>\n",
       "      <td>0.2</td>\n",
       "      <td>760.0</td>\n",
       "    </tr>\n",
       "    <tr>\n",
       "      <th>40</th>\n",
       "      <td>Beverages</td>\n",
       "      <td>Chang</td>\n",
       "      <td>19.0</td>\n",
       "      <td>35</td>\n",
       "      <td>0.0</td>\n",
       "      <td>665.0</td>\n",
       "    </tr>\n",
       "    <tr>\n",
       "      <th>41</th>\n",
       "      <td>Beverages</td>\n",
       "      <td>Chang</td>\n",
       "      <td>19.0</td>\n",
       "      <td>40</td>\n",
       "      <td>0.0</td>\n",
       "      <td>760.0</td>\n",
       "    </tr>\n",
       "    <tr>\n",
       "      <th>42</th>\n",
       "      <td>Beverages</td>\n",
       "      <td>Chang</td>\n",
       "      <td>19.0</td>\n",
       "      <td>25</td>\n",
       "      <td>0.2</td>\n",
       "      <td>380.0</td>\n",
       "    </tr>\n",
       "  </tbody>\n",
       "</table>\n",
       "</div>"
      ],
      "text/plain": [
       "   CategoryName ProductName  UnitPrice  Quantity  Discount  Revenue\n",
       "38    Beverages       Chang       19.0        20       0.0    380.0\n",
       "39    Beverages       Chang       19.0        50       0.2    760.0\n",
       "40    Beverages       Chang       19.0        35       0.0    665.0\n",
       "41    Beverages       Chang       19.0        40       0.0    760.0\n",
       "42    Beverages       Chang       19.0        25       0.2    380.0"
      ]
     },
     "execution_count": 35,
     "metadata": {},
     "output_type": "execute_result"
    }
   ],
   "source": [
    "#Adding a column for revenue to alcoholic sales and previewing\n",
    "alc_sales['Revenue'] = alc_sales['UnitPrice'] * alc_sales['Quantity'] * (1 - alc_sales['Discount'])\n",
    "alc_sales.head()"
   ]
  },
  {
   "cell_type": "code",
   "execution_count": 36,
   "metadata": {},
   "outputs": [
    {
     "data": {
      "text/plain": [
       "245443.8"
      ]
     },
     "execution_count": 36,
     "metadata": {},
     "output_type": "execute_result"
    }
   ],
   "source": [
    "#Calculating revenue for sales of alcoholic beverages\n",
    "alc_rev = alc_sales['Revenue'].sum()\n",
    "alc_rev"
   ]
  },
  {
   "cell_type": "code",
   "execution_count": 37,
   "metadata": {},
   "outputs": [
    {
     "data": {
      "text/html": [
       "<div>\n",
       "<style scoped>\n",
       "    .dataframe tbody tr th:only-of-type {\n",
       "        vertical-align: middle;\n",
       "    }\n",
       "\n",
       "    .dataframe tbody tr th {\n",
       "        vertical-align: top;\n",
       "    }\n",
       "\n",
       "    .dataframe thead th {\n",
       "        text-align: right;\n",
       "    }\n",
       "</style>\n",
       "<table border=\"1\" class=\"dataframe\">\n",
       "  <thead>\n",
       "    <tr style=\"text-align: right;\">\n",
       "      <th></th>\n",
       "      <th>CategoryName</th>\n",
       "      <th>ProductName</th>\n",
       "      <th>UnitPrice</th>\n",
       "      <th>Quantity</th>\n",
       "      <th>Discount</th>\n",
       "      <th>Revenue</th>\n",
       "    </tr>\n",
       "  </thead>\n",
       "  <tbody>\n",
       "    <tr>\n",
       "      <th>0</th>\n",
       "      <td>Beverages</td>\n",
       "      <td>Chai</td>\n",
       "      <td>18.0</td>\n",
       "      <td>45</td>\n",
       "      <td>0.20</td>\n",
       "      <td>648.0</td>\n",
       "    </tr>\n",
       "    <tr>\n",
       "      <th>1</th>\n",
       "      <td>Beverages</td>\n",
       "      <td>Chai</td>\n",
       "      <td>18.0</td>\n",
       "      <td>18</td>\n",
       "      <td>0.00</td>\n",
       "      <td>324.0</td>\n",
       "    </tr>\n",
       "    <tr>\n",
       "      <th>2</th>\n",
       "      <td>Beverages</td>\n",
       "      <td>Chai</td>\n",
       "      <td>18.0</td>\n",
       "      <td>20</td>\n",
       "      <td>0.00</td>\n",
       "      <td>360.0</td>\n",
       "    </tr>\n",
       "    <tr>\n",
       "      <th>3</th>\n",
       "      <td>Beverages</td>\n",
       "      <td>Chai</td>\n",
       "      <td>18.0</td>\n",
       "      <td>15</td>\n",
       "      <td>0.15</td>\n",
       "      <td>229.5</td>\n",
       "    </tr>\n",
       "    <tr>\n",
       "      <th>4</th>\n",
       "      <td>Beverages</td>\n",
       "      <td>Chai</td>\n",
       "      <td>18.0</td>\n",
       "      <td>12</td>\n",
       "      <td>0.00</td>\n",
       "      <td>216.0</td>\n",
       "    </tr>\n",
       "  </tbody>\n",
       "</table>\n",
       "</div>"
      ],
      "text/plain": [
       "  CategoryName ProductName  UnitPrice  Quantity  Discount  Revenue\n",
       "0    Beverages        Chai       18.0        45      0.20    648.0\n",
       "1    Beverages        Chai       18.0        18      0.00    324.0\n",
       "2    Beverages        Chai       18.0        20      0.00    360.0\n",
       "3    Beverages        Chai       18.0        15      0.15    229.5\n",
       "4    Beverages        Chai       18.0        12      0.00    216.0"
      ]
     },
     "execution_count": 37,
     "metadata": {},
     "output_type": "execute_result"
    }
   ],
   "source": [
    "#Adding a column for revenue to non_alcoholic sales and previewing\n",
    "non_alc_sales['Revenue'] = non_alc_sales['UnitPrice'] * non_alc_sales['Quantity'] * (1 - non_alc_sales['Discount'])\n",
    "non_alc_sales.head()"
   ]
  },
  {
   "cell_type": "code",
   "execution_count": 38,
   "metadata": {},
   "outputs": [
    {
     "data": {
      "text/plain": [
       "43250.85"
      ]
     },
     "execution_count": 38,
     "metadata": {},
     "output_type": "execute_result"
    }
   ],
   "source": [
    "#Calculating revenue for sales of non_alcoholic beverages\n",
    "non_alc_rev = non_alc_sales['Revenue'].sum()\n",
    "non_alc_rev"
   ]
  },
  {
   "cell_type": "code",
   "execution_count": 39,
   "metadata": {},
   "outputs": [
    {
     "data": {
      "text/plain": [
       "5.674889626446648"
      ]
     },
     "execution_count": 39,
     "metadata": {},
     "output_type": "execute_result"
    }
   ],
   "source": [
    "#How much more revenue does Northwind make from alcoholic vs non-alcoholic beverages\n",
    "alc_rev / non_alc_rev"
   ]
  },
  {
   "cell_type": "markdown",
   "metadata": {},
   "source": [
    "On a revenue basis, there is no comparison between alcoholic and non-alcoholic beverages, as Northwind makes over 5.5x as much revenue on alcoholic beverages.  But what if we look at quantity per order?"
   ]
  },
  {
   "cell_type": "markdown",
   "metadata": {},
   "source": [
    "### Beverage Sales by Quantity per Order:"
   ]
  },
  {
   "cell_type": "code",
   "execution_count": 40,
   "metadata": {},
   "outputs": [
    {
     "name": "stdout",
     "output_type": "stream",
     "text": [
      "There are 287 orders of alcoholic beverages.\n",
      "There are 117 orders of non-alcoholic beverages.\n"
     ]
    }
   ],
   "source": [
    "print(f'There are {alc_sales.shape[0]} orders of alcoholic beverages.')\n",
    "print(f'There are {non_alc_sales.shape[0]} orders of non-alcoholic beverages.')"
   ]
  },
  {
   "cell_type": "code",
   "execution_count": 41,
   "metadata": {},
   "outputs": [
    {
     "data": {
      "text/plain": [
       "(24.386759581881535, 21.64957264957265)"
      ]
     },
     "execution_count": 41,
     "metadata": {},
     "output_type": "execute_result"
    }
   ],
   "source": [
    "#Calculating the mean quantity per order for alcoholic and non-alcoholic beverages\n",
    "a = alc_sales['Quantity'].mean()\n",
    "na = non_alc_sales['Quantity'].mean()\n",
    "a,na"
   ]
  },
  {
   "cell_type": "code",
   "execution_count": 42,
   "metadata": {},
   "outputs": [
    {
     "name": "stdout",
     "output_type": "stream",
     "text": [
      "The mean quantity of alcoholic beverages orders is 24.39\n",
      "The mean quantity of non-alcoholic beverages orders is 21.65\n"
     ]
    }
   ],
   "source": [
    "print(f'The mean quantity of alcoholic beverages orders is {round(a,2)}')\n",
    "print(f'The mean quantity of non-alcoholic beverages orders is {round(na,2)}')"
   ]
  },
  {
   "cell_type": "code",
   "execution_count": 43,
   "metadata": {},
   "outputs": [
    {
     "data": {
      "image/png": "[encoded data removed]",
      "text/plain": [
       "<Figure size 576x576 with 1 Axes>"
      ]
     },
     "metadata": {
      "needs_background": "light"
     },
     "output_type": "display_data"
    }
   ],
   "source": [
    "#Distribution for discounted vs non-discounted quantity. Eyeball test for normality.\n",
    "plt.figure(figsize=(8,8))\n",
    "sns.distplot(alc_sales['Quantity'], label = 'Alcoholic Beverages')\n",
    "sns.distplot(non_alc_sales['Quantity'], label = 'Non-Alcoholic Beverages')\n",
    "plt.axvline(a, linestyle = '--', label = 'Alc mean', color = 'b')\n",
    "plt.axvline(na, linestyle = '--', label = 'Non-alc mean', color = 'orange')\n",
    "plt.title(\"Distribution of Alcoholic and Non-Alcoholic Beverages \")\n",
    "plt.legend()\n",
    "plt.show()"
   ]
  },
  {
   "cell_type": "markdown",
   "metadata": {},
   "source": [
    "### Question 2 - Hypothesis:\n",
    "$H\\_0: \\mu_1\\= \\mu_2\\$  -- The average quantity of alcoholic and non-alcoholic drinks per order are equal.\n",
    "\n",
    "$H\\_A: \\mu_1\\ \\neq\\  \\mu_2\\$ -- The average quantity of alcoholic and non-alcoholic drinks per order are not equal.\n"
   ]
  },
  {
   "cell_type": "markdown",
   "metadata": {},
   "source": [
    "The data is not normally distributed, it is right-skewed.  However, the 2-sample t-test should be robust to the assumption of normality.  We will run a Levene Test to see if they have the same variance with alpha set to 0.05"
   ]
  },
  {
   "cell_type": "code",
   "execution_count": 44,
   "metadata": {},
   "outputs": [
    {
     "data": {
      "text/plain": [
       "LeveneResult(statistic=1.7603441608680084, pvalue=0.1853347458308032)"
      ]
     },
     "execution_count": 44,
     "metadata": {},
     "output_type": "execute_result"
    }
   ],
   "source": [
    "#Levene test for equal variance\n",
    "stats.levene(alc_sales['Quantity'], non_alc_sales['Quantity'])"
   ]
  },
  {
   "cell_type": "markdown",
   "metadata": {},
   "source": [
    "The p-value is greater than alpha so we can accept the null hypothesis of equal variance and use an independent 2-sample t-test with alpha value of 0.05"
   ]
  },
  {
   "cell_type": "code",
   "execution_count": 45,
   "metadata": {},
   "outputs": [
    {
     "data": {
      "text/plain": [
       "(1.299274131444229, 0.19459451336460287)"
      ]
     },
     "execution_count": 45,
     "metadata": {},
     "output_type": "execute_result"
    }
   ],
   "source": [
    "#Run independent 2-sample t-test with alpha of 0.05\n",
    "alpha=0.05\n",
    "t, p = stats.ttest_ind(alc_sales['Quantity'], non_alc_sales['Quantity'], equal_var=True)\n",
    "t, p"
   ]
  },
  {
   "cell_type": "code",
   "execution_count": 46,
   "metadata": {},
   "outputs": [
    {
     "data": {
      "text/plain": [
       "True"
      ]
     },
     "execution_count": 46,
     "metadata": {},
     "output_type": "execute_result"
    }
   ],
   "source": [
    "p > alpha"
   ]
  },
  {
   "cell_type": "markdown",
   "metadata": {},
   "source": [
    "### Result:  Fail to reject the Null"
   ]
  },
  {
   "cell_type": "markdown",
   "metadata": {},
   "source": [
    "With a p-value greater than our alpha of 0.05, we fail to reject the null.  **On a per order basis, there is no significant difference between quantities of alcoholic and non-alcoholic beverages ordered.**  \n"
   ]
  },
  {
   "cell_type": "markdown",
   "metadata": {},
   "source": [
    "### Recommendation:"
   ]
  },
  {
   "cell_type": "markdown",
   "metadata": {},
   "source": [
    "We saw above that Northwind makes a much greater amount of revenue selling alcoholic beverages vs non-alcoholic beverages.  Close to 6x as much.  It is no surprise when they sell 9 types of alcoholic beverage and only 3 non-alcoholic.  However, our hypothesis test on the mean quantity per order of the two categories showed a lack of statistically significant difference.  Customers order nearly as high a quantity of non-alcohlic beverages.  Northwind would be wise to expand their non-alcoholic product line, perhaps offering more varieties of coffee and tea, or entering into the flavored water or energy drink market."
   ]
  },
  {
   "cell_type": "markdown",
   "metadata": {},
   "source": [
    "## Question 3:  Is there a difference in revenues between the US and UK offices?"
   ]
  },
  {
   "cell_type": "code",
   "execution_count": 47,
   "metadata": {},
   "outputs": [
    {
     "data": {
      "text/plain": [
       "['Id',\n",
       " 'LastName',\n",
       " 'FirstName',\n",
       " 'Title',\n",
       " 'TitleOfCourtesy',\n",
       " 'BirthDate',\n",
       " 'HireDate',\n",
       " 'Address',\n",
       " 'City',\n",
       " 'Region',\n",
       " 'PostalCode',\n",
       " 'Country',\n",
       " 'HomePhone',\n",
       " 'Extension',\n",
       " 'Photo',\n",
       " 'Notes',\n",
       " 'ReportsTo',\n",
       " 'PhotoPath']"
      ]
     },
     "execution_count": 47,
     "metadata": {},
     "output_type": "execute_result"
    }
   ],
   "source": [
    "#Checking columns in the Employee table\n",
    "table_columns['Employee']"
   ]
  },
  {
   "cell_type": "code",
   "execution_count": 48,
   "metadata": {},
   "outputs": [
    {
     "name": "stdout",
     "output_type": "stream",
     "text": [
      "2019-06-16 21:39:26,498 INFO sqlalchemy.engine.base.Engine SELECT Id, LastName, FirstName, Title, Region, City FROM Employee\n",
      "2019-06-16 21:39:26,500 INFO sqlalchemy.engine.base.Engine ()\n"
     ]
    },
    {
     "data": {
      "text/html": [
       "<div>\n",
       "<style scoped>\n",
       "    .dataframe tbody tr th:only-of-type {\n",
       "        vertical-align: middle;\n",
       "    }\n",
       "\n",
       "    .dataframe tbody tr th {\n",
       "        vertical-align: top;\n",
       "    }\n",
       "\n",
       "    .dataframe thead th {\n",
       "        text-align: right;\n",
       "    }\n",
       "</style>\n",
       "<table border=\"1\" class=\"dataframe\">\n",
       "  <thead>\n",
       "    <tr style=\"text-align: right;\">\n",
       "      <th></th>\n",
       "      <th>Id</th>\n",
       "      <th>LastName</th>\n",
       "      <th>FirstName</th>\n",
       "      <th>Title</th>\n",
       "      <th>Region</th>\n",
       "      <th>City</th>\n",
       "    </tr>\n",
       "  </thead>\n",
       "  <tbody>\n",
       "    <tr>\n",
       "      <th>0</th>\n",
       "      <td>1</td>\n",
       "      <td>Davolio</td>\n",
       "      <td>Nancy</td>\n",
       "      <td>Sales Representative</td>\n",
       "      <td>North America</td>\n",
       "      <td>Seattle</td>\n",
       "    </tr>\n",
       "    <tr>\n",
       "      <th>1</th>\n",
       "      <td>2</td>\n",
       "      <td>Fuller</td>\n",
       "      <td>Andrew</td>\n",
       "      <td>Vice President, Sales</td>\n",
       "      <td>North America</td>\n",
       "      <td>Tacoma</td>\n",
       "    </tr>\n",
       "    <tr>\n",
       "      <th>2</th>\n",
       "      <td>3</td>\n",
       "      <td>Leverling</td>\n",
       "      <td>Janet</td>\n",
       "      <td>Sales Representative</td>\n",
       "      <td>North America</td>\n",
       "      <td>Kirkland</td>\n",
       "    </tr>\n",
       "    <tr>\n",
       "      <th>3</th>\n",
       "      <td>4</td>\n",
       "      <td>Peacock</td>\n",
       "      <td>Margaret</td>\n",
       "      <td>Sales Representative</td>\n",
       "      <td>North America</td>\n",
       "      <td>Redmond</td>\n",
       "    </tr>\n",
       "    <tr>\n",
       "      <th>4</th>\n",
       "      <td>5</td>\n",
       "      <td>Buchanan</td>\n",
       "      <td>Steven</td>\n",
       "      <td>Sales Manager</td>\n",
       "      <td>British Isles</td>\n",
       "      <td>London</td>\n",
       "    </tr>\n",
       "    <tr>\n",
       "      <th>5</th>\n",
       "      <td>6</td>\n",
       "      <td>Suyama</td>\n",
       "      <td>Michael</td>\n",
       "      <td>Sales Representative</td>\n",
       "      <td>British Isles</td>\n",
       "      <td>London</td>\n",
       "    </tr>\n",
       "    <tr>\n",
       "      <th>6</th>\n",
       "      <td>7</td>\n",
       "      <td>King</td>\n",
       "      <td>Robert</td>\n",
       "      <td>Sales Representative</td>\n",
       "      <td>British Isles</td>\n",
       "      <td>London</td>\n",
       "    </tr>\n",
       "    <tr>\n",
       "      <th>7</th>\n",
       "      <td>8</td>\n",
       "      <td>Callahan</td>\n",
       "      <td>Laura</td>\n",
       "      <td>Inside Sales Coordinator</td>\n",
       "      <td>North America</td>\n",
       "      <td>Seattle</td>\n",
       "    </tr>\n",
       "    <tr>\n",
       "      <th>8</th>\n",
       "      <td>9</td>\n",
       "      <td>Dodsworth</td>\n",
       "      <td>Anne</td>\n",
       "      <td>Sales Representative</td>\n",
       "      <td>British Isles</td>\n",
       "      <td>London</td>\n",
       "    </tr>\n",
       "  </tbody>\n",
       "</table>\n",
       "</div>"
      ],
      "text/plain": [
       "   Id   LastName FirstName                     Title         Region      City\n",
       "0   1    Davolio     Nancy      Sales Representative  North America   Seattle\n",
       "1   2     Fuller    Andrew     Vice President, Sales  North America    Tacoma\n",
       "2   3  Leverling     Janet      Sales Representative  North America  Kirkland\n",
       "3   4    Peacock  Margaret      Sales Representative  North America   Redmond\n",
       "4   5   Buchanan    Steven             Sales Manager  British Isles    London\n",
       "5   6     Suyama   Michael      Sales Representative  British Isles    London\n",
       "6   7       King    Robert      Sales Representative  British Isles    London\n",
       "7   8   Callahan     Laura  Inside Sales Coordinator  North America   Seattle\n",
       "8   9  Dodsworth      Anne      Sales Representative  British Isles    London"
      ]
     },
     "execution_count": 48,
     "metadata": {},
     "output_type": "execute_result"
    }
   ],
   "source": [
    "#Let's check who works at Northwind\n",
    "employees = pd.read_sql_query('''SELECT Id, LastName, FirstName, Title, Region, City FROM Employee''', engine)\n",
    "employees"
   ]
  },
  {
   "cell_type": "markdown",
   "metadata": {},
   "source": [
    "Northwind has 9 employees, all in sales, across two regions: North America and British Isles.  We can surmise that Northwind has offices in Seattle and London (although Mr. Fuller, our VP of Sales in North America has a pretty decent commute from Tacoma!)."
   ]
  },
  {
   "cell_type": "markdown",
   "metadata": {},
   "source": [
    "We will make a dataframe with employees and sales revenue and split it up by US vs UK to test if there is a difference in sales between the two regions."
   ]
  },
  {
   "cell_type": "code",
   "execution_count": 49,
   "metadata": {},
   "outputs": [
    {
     "name": "stdout",
     "output_type": "stream",
     "text": [
      "2019-06-16 21:39:26,540 INFO sqlalchemy.engine.base.Engine SELECT o.EmployeeId, e.City Office,\n",
      "                                    od.OrderId, SUM(od.UnitPrice * od.Quantity * (1-od.Discount)) Revenue\n",
      "                                    FROM EMPLOYEE e JOIN [ORDER] o ON E.Id = o.EmployeeId\n",
      "                                    JOIN OrderDetail od ON o.Id = od.OrderId\n",
      "                                    GROUP BY od.OrderId \n",
      "                                    ORDER BY e.Id\n",
      "2019-06-16 21:39:26,542 INFO sqlalchemy.engine.base.Engine ()\n"
     ]
    }
   ],
   "source": [
    "employee_sales = pd.read_sql_query('''SELECT o.EmployeeId, e.City Office,\n",
    "                                    od.OrderId, SUM(od.UnitPrice * od.Quantity * (1-od.Discount)) Revenue\n",
    "                                    FROM EMPLOYEE e JOIN [ORDER] o ON E.Id = o.EmployeeId\n",
    "                                    JOIN OrderDetail od ON o.Id = od.OrderId\n",
    "                                    GROUP BY od.OrderId \n",
    "                                    ORDER BY e.Id''', engine)"
   ]
  },
  {
   "cell_type": "code",
   "execution_count": 50,
   "metadata": {},
   "outputs": [
    {
     "data": {
      "text/html": [
       "<div>\n",
       "<style scoped>\n",
       "    .dataframe tbody tr th:only-of-type {\n",
       "        vertical-align: middle;\n",
       "    }\n",
       "\n",
       "    .dataframe tbody tr th {\n",
       "        vertical-align: top;\n",
       "    }\n",
       "\n",
       "    .dataframe thead th {\n",
       "        text-align: right;\n",
       "    }\n",
       "</style>\n",
       "<table border=\"1\" class=\"dataframe\">\n",
       "  <thead>\n",
       "    <tr style=\"text-align: right;\">\n",
       "      <th></th>\n",
       "      <th>EmployeeId</th>\n",
       "      <th>Office</th>\n",
       "      <th>OrderId</th>\n",
       "      <th>Revenue</th>\n",
       "    </tr>\n",
       "  </thead>\n",
       "  <tbody>\n",
       "    <tr>\n",
       "      <th>0</th>\n",
       "      <td>1</td>\n",
       "      <td>Seattle</td>\n",
       "      <td>10258</td>\n",
       "      <td>1614.88</td>\n",
       "    </tr>\n",
       "    <tr>\n",
       "      <th>1</th>\n",
       "      <td>1</td>\n",
       "      <td>Seattle</td>\n",
       "      <td>10270</td>\n",
       "      <td>1376.00</td>\n",
       "    </tr>\n",
       "    <tr>\n",
       "      <th>2</th>\n",
       "      <td>1</td>\n",
       "      <td>Seattle</td>\n",
       "      <td>10275</td>\n",
       "      <td>291.84</td>\n",
       "    </tr>\n",
       "    <tr>\n",
       "      <th>3</th>\n",
       "      <td>1</td>\n",
       "      <td>Seattle</td>\n",
       "      <td>10285</td>\n",
       "      <td>1743.36</td>\n",
       "    </tr>\n",
       "    <tr>\n",
       "      <th>4</th>\n",
       "      <td>1</td>\n",
       "      <td>Seattle</td>\n",
       "      <td>10292</td>\n",
       "      <td>1296.00</td>\n",
       "    </tr>\n",
       "  </tbody>\n",
       "</table>\n",
       "</div>"
      ],
      "text/plain": [
       "   EmployeeId   Office  OrderId  Revenue\n",
       "0           1  Seattle    10258  1614.88\n",
       "1           1  Seattle    10270  1376.00\n",
       "2           1  Seattle    10275   291.84\n",
       "3           1  Seattle    10285  1743.36\n",
       "4           1  Seattle    10292  1296.00"
      ]
     },
     "execution_count": 50,
     "metadata": {},
     "output_type": "execute_result"
    }
   ],
   "source": [
    "employee_sales.head()"
   ]
  },
  {
   "cell_type": "code",
   "execution_count": 51,
   "metadata": {},
   "outputs": [
    {
     "data": {
      "text/plain": [
       "830"
      ]
     },
     "execution_count": 51,
     "metadata": {},
     "output_type": "execute_result"
    }
   ],
   "source": [
    "len(employee_sales)"
   ]
  },
  {
   "cell_type": "code",
   "execution_count": 52,
   "metadata": {},
   "outputs": [],
   "source": [
    "#Splitting the dataset into US and UK sales\n",
    "UK_sales = employee_sales[employee_sales['Office'] == 'London']\n",
    "US_sales = employee_sales[employee_sales['Office'] != 'London']"
   ]
  },
  {
   "cell_type": "code",
   "execution_count": 53,
   "metadata": {},
   "outputs": [
    {
     "data": {
      "text/html": [
       "<div>\n",
       "<style scoped>\n",
       "    .dataframe tbody tr th:only-of-type {\n",
       "        vertical-align: middle;\n",
       "    }\n",
       "\n",
       "    .dataframe tbody tr th {\n",
       "        vertical-align: top;\n",
       "    }\n",
       "\n",
       "    .dataframe thead th {\n",
       "        text-align: right;\n",
       "    }\n",
       "</style>\n",
       "<table border=\"1\" class=\"dataframe\">\n",
       "  <thead>\n",
       "    <tr style=\"text-align: right;\">\n",
       "      <th></th>\n",
       "      <th>EmployeeId</th>\n",
       "      <th>OrderId</th>\n",
       "      <th>Revenue</th>\n",
       "    </tr>\n",
       "  </thead>\n",
       "  <tbody>\n",
       "    <tr>\n",
       "      <th>count</th>\n",
       "      <td>224.000000</td>\n",
       "      <td>224.000000</td>\n",
       "      <td>224.000000</td>\n",
       "    </tr>\n",
       "    <tr>\n",
       "      <th>mean</th>\n",
       "      <td>6.709821</td>\n",
       "      <td>10665.075893</td>\n",
       "      <td>1538.311221</td>\n",
       "    </tr>\n",
       "    <tr>\n",
       "      <th>std</th>\n",
       "      <td>1.319292</td>\n",
       "      <td>236.639797</td>\n",
       "      <td>1892.265365</td>\n",
       "    </tr>\n",
       "    <tr>\n",
       "      <th>min</th>\n",
       "      <td>5.000000</td>\n",
       "      <td>10248.000000</td>\n",
       "      <td>12.500000</td>\n",
       "    </tr>\n",
       "    <tr>\n",
       "      <th>25%</th>\n",
       "      <td>6.000000</td>\n",
       "      <td>10482.250000</td>\n",
       "      <td>454.066250</td>\n",
       "    </tr>\n",
       "    <tr>\n",
       "      <th>50%</th>\n",
       "      <td>7.000000</td>\n",
       "      <td>10666.500000</td>\n",
       "      <td>868.650000</td>\n",
       "    </tr>\n",
       "    <tr>\n",
       "      <th>75%</th>\n",
       "      <td>7.000000</td>\n",
       "      <td>10869.250000</td>\n",
       "      <td>1896.087500</td>\n",
       "    </tr>\n",
       "    <tr>\n",
       "      <th>max</th>\n",
       "      <td>9.000000</td>\n",
       "      <td>11074.000000</td>\n",
       "      <td>12615.050000</td>\n",
       "    </tr>\n",
       "  </tbody>\n",
       "</table>\n",
       "</div>"
      ],
      "text/plain": [
       "       EmployeeId       OrderId       Revenue\n",
       "count  224.000000    224.000000    224.000000\n",
       "mean     6.709821  10665.075893   1538.311221\n",
       "std      1.319292    236.639797   1892.265365\n",
       "min      5.000000  10248.000000     12.500000\n",
       "25%      6.000000  10482.250000    454.066250\n",
       "50%      7.000000  10666.500000    868.650000\n",
       "75%      7.000000  10869.250000   1896.087500\n",
       "max      9.000000  11074.000000  12615.050000"
      ]
     },
     "execution_count": 53,
     "metadata": {},
     "output_type": "execute_result"
    }
   ],
   "source": [
    "UK_sales.describe()"
   ]
  },
  {
   "cell_type": "code",
   "execution_count": 54,
   "metadata": {},
   "outputs": [
    {
     "data": {
      "text/html": [
       "<div>\n",
       "<style scoped>\n",
       "    .dataframe tbody tr th:only-of-type {\n",
       "        vertical-align: middle;\n",
       "    }\n",
       "\n",
       "    .dataframe tbody tr th {\n",
       "        vertical-align: top;\n",
       "    }\n",
       "\n",
       "    .dataframe thead th {\n",
       "        text-align: right;\n",
       "    }\n",
       "</style>\n",
       "<table border=\"1\" class=\"dataframe\">\n",
       "  <thead>\n",
       "    <tr style=\"text-align: right;\">\n",
       "      <th></th>\n",
       "      <th>EmployeeId</th>\n",
       "      <th>OrderId</th>\n",
       "      <th>Revenue</th>\n",
       "    </tr>\n",
       "  </thead>\n",
       "  <tbody>\n",
       "    <tr>\n",
       "      <th>count</th>\n",
       "      <td>606.000000</td>\n",
       "      <td>606.000000</td>\n",
       "      <td>606.000000</td>\n",
       "    </tr>\n",
       "    <tr>\n",
       "      <th>mean</th>\n",
       "      <td>3.551155</td>\n",
       "      <td>10661.547855</td>\n",
       "      <td>1520.150703</td>\n",
       "    </tr>\n",
       "    <tr>\n",
       "      <th>std</th>\n",
       "      <td>2.285388</td>\n",
       "      <td>241.069141</td>\n",
       "      <td>1829.031323</td>\n",
       "    </tr>\n",
       "    <tr>\n",
       "      <th>min</th>\n",
       "      <td>1.000000</td>\n",
       "      <td>10250.000000</td>\n",
       "      <td>18.400000</td>\n",
       "    </tr>\n",
       "    <tr>\n",
       "      <th>25%</th>\n",
       "      <td>2.000000</td>\n",
       "      <td>10449.250000</td>\n",
       "      <td>456.750000</td>\n",
       "    </tr>\n",
       "    <tr>\n",
       "      <th>50%</th>\n",
       "      <td>3.000000</td>\n",
       "      <td>10661.000000</td>\n",
       "      <td>1013.872500</td>\n",
       "    </tr>\n",
       "    <tr>\n",
       "      <th>75%</th>\n",
       "      <td>4.000000</td>\n",
       "      <td>10871.000000</td>\n",
       "      <td>1847.660000</td>\n",
       "    </tr>\n",
       "    <tr>\n",
       "      <th>max</th>\n",
       "      <td>8.000000</td>\n",
       "      <td>11077.000000</td>\n",
       "      <td>16387.500000</td>\n",
       "    </tr>\n",
       "  </tbody>\n",
       "</table>\n",
       "</div>"
      ],
      "text/plain": [
       "       EmployeeId       OrderId       Revenue\n",
       "count  606.000000    606.000000    606.000000\n",
       "mean     3.551155  10661.547855   1520.150703\n",
       "std      2.285388    241.069141   1829.031323\n",
       "min      1.000000  10250.000000     18.400000\n",
       "25%      2.000000  10449.250000    456.750000\n",
       "50%      3.000000  10661.000000   1013.872500\n",
       "75%      4.000000  10871.000000   1847.660000\n",
       "max      8.000000  11077.000000  16387.500000"
      ]
     },
     "execution_count": 54,
     "metadata": {},
     "output_type": "execute_result"
    }
   ],
   "source": [
    "US_sales.describe()"
   ]
  },
  {
   "cell_type": "code",
   "execution_count": 55,
   "metadata": {},
   "outputs": [],
   "source": [
    "london_rev = UK_sales.Revenue\n",
    "seattle_rev = US_sales.Revenue"
   ]
  },
  {
   "cell_type": "code",
   "execution_count": 56,
   "metadata": {},
   "outputs": [
    {
     "name": "stdout",
     "output_type": "stream",
     "text": [
      "The total revenue for the London office was $344581.71.\n",
      "The total revenue for the Seattle offce was $921211.33.\n"
     ]
    }
   ],
   "source": [
    "print(f'The total revenue for the London office was ${(round(london_rev.sum(),2))}.')\n",
    "print(f'The total revenue for the Seattle offce was ${round(seattle_rev.sum(),2)}.')"
   ]
  },
  {
   "cell_type": "markdown",
   "metadata": {},
   "source": [
    "Northwind makes a much greater total revenue out of the US/Seattle office, but we want to investigate if there is a difference in the average revenue per sale between the two centers."
   ]
  },
  {
   "cell_type": "code",
   "execution_count": 57,
   "metadata": {},
   "outputs": [
    {
     "name": "stdout",
     "output_type": "stream",
     "text": [
      "The mean revenue per order in London was 1538.3112209821425.\n",
      "The mean revenue per order in Seattle was 1520.1507029702982.\n"
     ]
    }
   ],
   "source": [
    "#Calculating the mean revenue per order for the two centers.\n",
    "london_mean = london_rev.mean()\n",
    "seattle_mean = seattle_rev.mean()\n",
    "print(f'The mean revenue per order in London was {london_mean}.')\n",
    "print(f'The mean revenue per order in Seattle was {seattle_mean}.')"
   ]
  },
  {
   "cell_type": "markdown",
   "metadata": {},
   "source": [
    "Despite the large overall difference in revenue, the means per order are farily similar and London's is a bit higher."
   ]
  },
  {
   "cell_type": "markdown",
   "metadata": {},
   "source": [
    "### Question 3 - Hypothesis:\n",
    "$H\\_0: \\mu_1\\= \\mu_2\\$  -- The mean revenue per order is the same in the London office and Seattle office.\n",
    "\n",
    "$H\\_A: \\mu_1\\ \\neq  \\mu_2\\$ -- The mean revenue per order is not equal between the two centers.\n",
    "\n"
   ]
  },
  {
   "cell_type": "code",
   "execution_count": 58,
   "metadata": {},
   "outputs": [
    {
     "name": "stdout",
     "output_type": "stream",
     "text": [
      "There are 224 orders from the London office.\n",
      "There are 606 orders from the Seattle office.\n"
     ]
    }
   ],
   "source": [
    "print(f'There are {len(UK_sales)} orders from the London office.')\n",
    "print(f'There are {len(US_sales)} orders from the Seattle office.')"
   ]
  },
  {
   "cell_type": "markdown",
   "metadata": {},
   "source": [
    "These are big enough sample sizes to test, so we will look at their distributions as an eyeball test for normality."
   ]
  },
  {
   "cell_type": "code",
   "execution_count": 59,
   "metadata": {},
   "outputs": [
    {
     "data": {
      "image/png": "[encoded data removed]",
      "text/plain": [
       "<Figure size 576x576 with 1 Axes>"
      ]
     },
     "metadata": {
      "needs_background": "light"
     },
     "output_type": "display_data"
    }
   ],
   "source": [
    "#Plotting distributions of revenue per order of London vs. Seattle\n",
    "plt.figure(figsize=(8,8))\n",
    "sns.distplot(london_rev, label = 'London Sales')\n",
    "sns.distplot(seattle_rev, label = 'Seattle Sales')\n",
    "plt.axvline(london_mean, linestyle = '--', label = 'London mean', color = 'b', alpha = 0.5)\n",
    "plt.axvline(seattle_mean, linestyle = '--', label = 'Seattle mean', color = 'orange', alpha = 0.5)\n",
    "plt.title(\"Distribution of Revenue per Order in London vs Seattle\")\n",
    "plt.xlim(-1000, 5000) #zooming in a bit to better view the distribution\n",
    "plt.legend()\n",
    "plt.show()\n"
   ]
  },
  {
   "cell_type": "markdown",
   "metadata": {},
   "source": [
    "As we can see, these data samples are not exactly normally distributed.  Each exhibit positive skew.  However, with the sufficient sample sizes of 224 and 606 we can proceed with a one-sided two-sample t-test, using an alpha of 0.05.  "
   ]
  },
  {
   "cell_type": "code",
   "execution_count": 60,
   "metadata": {},
   "outputs": [
    {
     "data": {
      "text/plain": [
       "LeveneResult(statistic=0.2298103387475599, pvalue=0.6317910824369707)"
      ]
     },
     "execution_count": 60,
     "metadata": {},
     "output_type": "execute_result"
    }
   ],
   "source": [
    "#Levene test for equal variance\n",
    "stats.levene(london_rev, seattle_rev)"
   ]
  },
  {
   "cell_type": "markdown",
   "metadata": {},
   "source": [
    "The Levene test shows a high p-value of 0.63 meaning we fail to reject the null hypothesis of equal variance and can proceed to run the student's t-test with equal variance."
   ]
  },
  {
   "cell_type": "code",
   "execution_count": 61,
   "metadata": {},
   "outputs": [
    {
     "data": {
      "text/plain": [
       "Ttest_indResult(statistic=0.1257920376990175, pvalue=0.8999270811672762)"
      ]
     },
     "execution_count": 61,
     "metadata": {},
     "output_type": "execute_result"
    }
   ],
   "source": [
    "#Run independent two-sample t-test\n",
    "stats.ttest_ind(london_rev, seattle_rev, equal_var=True)"
   ]
  },
  {
   "cell_type": "markdown",
   "metadata": {},
   "source": [
    "### Result: Fail to Reject the Null Hypothesis.\n",
    "   "
   ]
  },
  {
   "cell_type": "markdown",
   "metadata": {},
   "source": [
    "With a p-value of 0.90 much greater than our alpha of 0.05, we fail to reject the null and find **no significant difference between revenue per order in the London and Seattle offices.**"
   ]
  },
  {
   "cell_type": "markdown",
   "metadata": {},
   "source": [
    "### Recommendations/Further Work:"
   ]
  },
  {
   "cell_type": "markdown",
   "metadata": {},
   "source": [
    "Our test of the revenue per order between the 2 centers showed that there is no significant difference between them.  However, we also saw that despite only having 1 extra employee (5 vs 4) the Seattle office makes over 2.5x the revenue of the London office.  By order size, the London reps are keeping up with their US counterparts but the Seattle office filled 606 orders compared to only 224 in London.  Further study should be done to determine what makes up for that difference, whether it is market/geography based (ie. the Seattle team covers a much larger territory) or cultural (some other factors prohibiting the salespeople in London from making as many sales)."
   ]
  },
  {
   "cell_type": "markdown",
   "metadata": {},
   "source": [
    "## Question 4:  Do Freight costs per order differ between Northwind's various Shipping Companies?"
   ]
  },
  {
   "cell_type": "code",
   "execution_count": 62,
   "metadata": {},
   "outputs": [
    {
     "data": {
      "text/plain": [
       "['Category',\n",
       " 'Customer',\n",
       " 'CustomerCustomerDemo',\n",
       " 'CustomerDemographic',\n",
       " 'Employee',\n",
       " 'EmployeeTerritory',\n",
       " 'Order',\n",
       " 'OrderDetail',\n",
       " 'Product',\n",
       " 'Region',\n",
       " 'Shipper',\n",
       " 'Supplier',\n",
       " 'Territory']"
      ]
     },
     "execution_count": 62,
     "metadata": {},
     "output_type": "execute_result"
    }
   ],
   "source": [
    "#Taking another glance at table names \n",
    "table_names"
   ]
  },
  {
   "cell_type": "code",
   "execution_count": 63,
   "metadata": {},
   "outputs": [
    {
     "data": {
      "text/plain": [
       "['Id', 'CompanyName', 'Phone']"
      ]
     },
     "execution_count": 63,
     "metadata": {},
     "output_type": "execute_result"
    }
   ],
   "source": [
    "#Checking columns in the Shipper table\n",
    "table_columns['Shipper']"
   ]
  },
  {
   "cell_type": "code",
   "execution_count": 64,
   "metadata": {},
   "outputs": [
    {
     "data": {
      "text/plain": [
       "['Id',\n",
       " 'CustomerId',\n",
       " 'EmployeeId',\n",
       " 'OrderDate',\n",
       " 'RequiredDate',\n",
       " 'ShippedDate',\n",
       " 'ShipVia',\n",
       " 'Freight',\n",
       " 'ShipName',\n",
       " 'ShipAddress',\n",
       " 'ShipCity',\n",
       " 'ShipRegion',\n",
       " 'ShipPostalCode',\n",
       " 'ShipCountry']"
      ]
     },
     "execution_count": 64,
     "metadata": {},
     "output_type": "execute_result"
    }
   ],
   "source": [
    "#Checking columns in the Order table\n",
    "table_columns['Order']"
   ]
  },
  {
   "cell_type": "markdown",
   "metadata": {},
   "source": [
    "For this question we will look at freight costs and shipping company for each order, by joining the Order and Shipping tables."
   ]
  },
  {
   "cell_type": "code",
   "execution_count": 65,
   "metadata": {},
   "outputs": [
    {
     "name": "stdout",
     "output_type": "stream",
     "text": [
      "2019-06-16 21:39:27,732 INFO sqlalchemy.engine.base.Engine SELECT o.Id OrderId, o.Freight, s.Id ShipperId, \n",
      "                                s.CompanyName FROM [Order] o JOIN Shipper s ON \n",
      "                                o.ShipVia = s.Id ORDER BY s.Id\n",
      "2019-06-16 21:39:27,733 INFO sqlalchemy.engine.base.Engine ()\n"
     ]
    }
   ],
   "source": [
    "#Extract data into a pandas dataframe\n",
    "shipping = pd.read_sql_query('''SELECT o.Id OrderId, o.Freight, s.Id ShipperId, \n",
    "                                s.CompanyName FROM [Order] o JOIN Shipper s ON \n",
    "                                o.ShipVia = s.Id ORDER BY s.Id''', engine)"
   ]
  },
  {
   "cell_type": "code",
   "execution_count": 66,
   "metadata": {},
   "outputs": [
    {
     "data": {
      "text/html": [
       "<div>\n",
       "<style scoped>\n",
       "    .dataframe tbody tr th:only-of-type {\n",
       "        vertical-align: middle;\n",
       "    }\n",
       "\n",
       "    .dataframe tbody tr th {\n",
       "        vertical-align: top;\n",
       "    }\n",
       "\n",
       "    .dataframe thead th {\n",
       "        text-align: right;\n",
       "    }\n",
       "</style>\n",
       "<table border=\"1\" class=\"dataframe\">\n",
       "  <thead>\n",
       "    <tr style=\"text-align: right;\">\n",
       "      <th></th>\n",
       "      <th>OrderId</th>\n",
       "      <th>Freight</th>\n",
       "      <th>ShipperId</th>\n",
       "      <th>CompanyName</th>\n",
       "    </tr>\n",
       "  </thead>\n",
       "  <tbody>\n",
       "    <tr>\n",
       "      <th>0</th>\n",
       "      <td>10249</td>\n",
       "      <td>11.61</td>\n",
       "      <td>1</td>\n",
       "      <td>Speedy Express</td>\n",
       "    </tr>\n",
       "    <tr>\n",
       "      <th>1</th>\n",
       "      <td>10251</td>\n",
       "      <td>41.34</td>\n",
       "      <td>1</td>\n",
       "      <td>Speedy Express</td>\n",
       "    </tr>\n",
       "    <tr>\n",
       "      <th>2</th>\n",
       "      <td>10258</td>\n",
       "      <td>140.51</td>\n",
       "      <td>1</td>\n",
       "      <td>Speedy Express</td>\n",
       "    </tr>\n",
       "    <tr>\n",
       "      <th>3</th>\n",
       "      <td>10260</td>\n",
       "      <td>55.09</td>\n",
       "      <td>1</td>\n",
       "      <td>Speedy Express</td>\n",
       "    </tr>\n",
       "    <tr>\n",
       "      <th>4</th>\n",
       "      <td>10265</td>\n",
       "      <td>55.28</td>\n",
       "      <td>1</td>\n",
       "      <td>Speedy Express</td>\n",
       "    </tr>\n",
       "  </tbody>\n",
       "</table>\n",
       "</div>"
      ],
      "text/plain": [
       "   OrderId  Freight  ShipperId     CompanyName\n",
       "0    10249    11.61          1  Speedy Express\n",
       "1    10251    41.34          1  Speedy Express\n",
       "2    10258   140.51          1  Speedy Express\n",
       "3    10260    55.09          1  Speedy Express\n",
       "4    10265    55.28          1  Speedy Express"
      ]
     },
     "execution_count": 66,
     "metadata": {},
     "output_type": "execute_result"
    }
   ],
   "source": [
    "shipping.head()"
   ]
  },
  {
   "cell_type": "code",
   "execution_count": 67,
   "metadata": {},
   "outputs": [
    {
     "data": {
      "text/plain": [
       "United Package      326\n",
       "Federal Shipping    255\n",
       "Speedy Express      249\n",
       "Name: CompanyName, dtype: int64"
      ]
     },
     "execution_count": 67,
     "metadata": {},
     "output_type": "execute_result"
    }
   ],
   "source": [
    "#How many shipping companies does Northwind use and how many orders has each filled?\n",
    "shipping.CompanyName.value_counts()"
   ]
  },
  {
   "cell_type": "code",
   "execution_count": 68,
   "metadata": {},
   "outputs": [
    {
     "data": {
      "text/html": [
       "<div>\n",
       "<style scoped>\n",
       "    .dataframe tbody tr th:only-of-type {\n",
       "        vertical-align: middle;\n",
       "    }\n",
       "\n",
       "    .dataframe tbody tr th {\n",
       "        vertical-align: top;\n",
       "    }\n",
       "\n",
       "    .dataframe thead th {\n",
       "        text-align: right;\n",
       "    }\n",
       "</style>\n",
       "<table border=\"1\" class=\"dataframe\">\n",
       "  <thead>\n",
       "    <tr style=\"text-align: right;\">\n",
       "      <th></th>\n",
       "      <th>OrderId</th>\n",
       "      <th>Freight</th>\n",
       "      <th>ShipperId</th>\n",
       "    </tr>\n",
       "  </thead>\n",
       "  <tbody>\n",
       "    <tr>\n",
       "      <th>count</th>\n",
       "      <td>830.000000</td>\n",
       "      <td>830.000000</td>\n",
       "      <td>830.000000</td>\n",
       "    </tr>\n",
       "    <tr>\n",
       "      <th>mean</th>\n",
       "      <td>10662.500000</td>\n",
       "      <td>78.244205</td>\n",
       "      <td>2.007229</td>\n",
       "    </tr>\n",
       "    <tr>\n",
       "      <th>std</th>\n",
       "      <td>239.744656</td>\n",
       "      <td>116.779294</td>\n",
       "      <td>0.779685</td>\n",
       "    </tr>\n",
       "    <tr>\n",
       "      <th>min</th>\n",
       "      <td>10248.000000</td>\n",
       "      <td>0.020000</td>\n",
       "      <td>1.000000</td>\n",
       "    </tr>\n",
       "    <tr>\n",
       "      <th>25%</th>\n",
       "      <td>10455.250000</td>\n",
       "      <td>13.380000</td>\n",
       "      <td>1.000000</td>\n",
       "    </tr>\n",
       "    <tr>\n",
       "      <th>50%</th>\n",
       "      <td>10662.500000</td>\n",
       "      <td>41.360000</td>\n",
       "      <td>2.000000</td>\n",
       "    </tr>\n",
       "    <tr>\n",
       "      <th>75%</th>\n",
       "      <td>10869.750000</td>\n",
       "      <td>91.430000</td>\n",
       "      <td>3.000000</td>\n",
       "    </tr>\n",
       "    <tr>\n",
       "      <th>max</th>\n",
       "      <td>11077.000000</td>\n",
       "      <td>1007.640000</td>\n",
       "      <td>3.000000</td>\n",
       "    </tr>\n",
       "  </tbody>\n",
       "</table>\n",
       "</div>"
      ],
      "text/plain": [
       "            OrderId      Freight   ShipperId\n",
       "count    830.000000   830.000000  830.000000\n",
       "mean   10662.500000    78.244205    2.007229\n",
       "std      239.744656   116.779294    0.779685\n",
       "min    10248.000000     0.020000    1.000000\n",
       "25%    10455.250000    13.380000    1.000000\n",
       "50%    10662.500000    41.360000    2.000000\n",
       "75%    10869.750000    91.430000    3.000000\n",
       "max    11077.000000  1007.640000    3.000000"
      ]
     },
     "execution_count": 68,
     "metadata": {},
     "output_type": "execute_result"
    }
   ],
   "source": [
    "shipping.describe()"
   ]
  },
  {
   "cell_type": "markdown",
   "metadata": {},
   "source": [
    "After some cursory data exploration we see that for the 830 orders in our dataset, Northwind has used 3 different shipping companyies: United Package for 326 orders, Federal Shipping for 255 orders and Speedy Express for 249 orders.\n",
    "\n",
    "The mean freight cost per order is $78.24.  We will examine if there is a difference in shipping costs between the 3 companies."
   ]
  },
  {
   "cell_type": "code",
   "execution_count": 69,
   "metadata": {},
   "outputs": [],
   "source": [
    "#Splitting the dataset into groups of the 3 shipping companies\n",
    "united = shipping[shipping['CompanyName'] == 'United Package']\n",
    "federal = shipping[shipping['CompanyName'] == 'Federal Shipping']\n",
    "speedy = shipping[shipping['CompanyName'] == 'Speedy Express']"
   ]
  },
  {
   "cell_type": "code",
   "execution_count": 70,
   "metadata": {},
   "outputs": [
    {
     "data": {
      "text/html": [
       "<div>\n",
       "<style scoped>\n",
       "    .dataframe tbody tr th:only-of-type {\n",
       "        vertical-align: middle;\n",
       "    }\n",
       "\n",
       "    .dataframe tbody tr th {\n",
       "        vertical-align: top;\n",
       "    }\n",
       "\n",
       "    .dataframe thead th {\n",
       "        text-align: right;\n",
       "    }\n",
       "</style>\n",
       "<table border=\"1\" class=\"dataframe\">\n",
       "  <thead>\n",
       "    <tr style=\"text-align: right;\">\n",
       "      <th></th>\n",
       "      <th>OrderId</th>\n",
       "      <th>Freight</th>\n",
       "      <th>ShipperId</th>\n",
       "      <th>CompanyName</th>\n",
       "    </tr>\n",
       "  </thead>\n",
       "  <tbody>\n",
       "    <tr>\n",
       "      <th>249</th>\n",
       "      <td>10250</td>\n",
       "      <td>65.83</td>\n",
       "      <td>2</td>\n",
       "      <td>United Package</td>\n",
       "    </tr>\n",
       "    <tr>\n",
       "      <th>250</th>\n",
       "      <td>10252</td>\n",
       "      <td>51.30</td>\n",
       "      <td>2</td>\n",
       "      <td>United Package</td>\n",
       "    </tr>\n",
       "    <tr>\n",
       "      <th>251</th>\n",
       "      <td>10253</td>\n",
       "      <td>58.17</td>\n",
       "      <td>2</td>\n",
       "      <td>United Package</td>\n",
       "    </tr>\n",
       "    <tr>\n",
       "      <th>252</th>\n",
       "      <td>10254</td>\n",
       "      <td>22.98</td>\n",
       "      <td>2</td>\n",
       "      <td>United Package</td>\n",
       "    </tr>\n",
       "    <tr>\n",
       "      <th>253</th>\n",
       "      <td>10256</td>\n",
       "      <td>13.97</td>\n",
       "      <td>2</td>\n",
       "      <td>United Package</td>\n",
       "    </tr>\n",
       "  </tbody>\n",
       "</table>\n",
       "</div>"
      ],
      "text/plain": [
       "     OrderId  Freight  ShipperId     CompanyName\n",
       "249    10250    65.83          2  United Package\n",
       "250    10252    51.30          2  United Package\n",
       "251    10253    58.17          2  United Package\n",
       "252    10254    22.98          2  United Package\n",
       "253    10256    13.97          2  United Package"
      ]
     },
     "metadata": {},
     "output_type": "display_data"
    },
    {
     "data": {
      "text/html": [
       "<div>\n",
       "<style scoped>\n",
       "    .dataframe tbody tr th:only-of-type {\n",
       "        vertical-align: middle;\n",
       "    }\n",
       "\n",
       "    .dataframe tbody tr th {\n",
       "        vertical-align: top;\n",
       "    }\n",
       "\n",
       "    .dataframe thead th {\n",
       "        text-align: right;\n",
       "    }\n",
       "</style>\n",
       "<table border=\"1\" class=\"dataframe\">\n",
       "  <thead>\n",
       "    <tr style=\"text-align: right;\">\n",
       "      <th></th>\n",
       "      <th>OrderId</th>\n",
       "      <th>Freight</th>\n",
       "      <th>ShipperId</th>\n",
       "      <th>CompanyName</th>\n",
       "    </tr>\n",
       "  </thead>\n",
       "  <tbody>\n",
       "    <tr>\n",
       "      <th>575</th>\n",
       "      <td>10248</td>\n",
       "      <td>32.38</td>\n",
       "      <td>3</td>\n",
       "      <td>Federal Shipping</td>\n",
       "    </tr>\n",
       "    <tr>\n",
       "      <th>576</th>\n",
       "      <td>10255</td>\n",
       "      <td>148.33</td>\n",
       "      <td>3</td>\n",
       "      <td>Federal Shipping</td>\n",
       "    </tr>\n",
       "    <tr>\n",
       "      <th>577</th>\n",
       "      <td>10257</td>\n",
       "      <td>81.91</td>\n",
       "      <td>3</td>\n",
       "      <td>Federal Shipping</td>\n",
       "    </tr>\n",
       "    <tr>\n",
       "      <th>578</th>\n",
       "      <td>10259</td>\n",
       "      <td>3.25</td>\n",
       "      <td>3</td>\n",
       "      <td>Federal Shipping</td>\n",
       "    </tr>\n",
       "    <tr>\n",
       "      <th>579</th>\n",
       "      <td>10262</td>\n",
       "      <td>48.29</td>\n",
       "      <td>3</td>\n",
       "      <td>Federal Shipping</td>\n",
       "    </tr>\n",
       "  </tbody>\n",
       "</table>\n",
       "</div>"
      ],
      "text/plain": [
       "     OrderId  Freight  ShipperId       CompanyName\n",
       "575    10248    32.38          3  Federal Shipping\n",
       "576    10255   148.33          3  Federal Shipping\n",
       "577    10257    81.91          3  Federal Shipping\n",
       "578    10259     3.25          3  Federal Shipping\n",
       "579    10262    48.29          3  Federal Shipping"
      ]
     },
     "metadata": {},
     "output_type": "display_data"
    },
    {
     "data": {
      "text/html": [
       "<div>\n",
       "<style scoped>\n",
       "    .dataframe tbody tr th:only-of-type {\n",
       "        vertical-align: middle;\n",
       "    }\n",
       "\n",
       "    .dataframe tbody tr th {\n",
       "        vertical-align: top;\n",
       "    }\n",
       "\n",
       "    .dataframe thead th {\n",
       "        text-align: right;\n",
       "    }\n",
       "</style>\n",
       "<table border=\"1\" class=\"dataframe\">\n",
       "  <thead>\n",
       "    <tr style=\"text-align: right;\">\n",
       "      <th></th>\n",
       "      <th>OrderId</th>\n",
       "      <th>Freight</th>\n",
       "      <th>ShipperId</th>\n",
       "      <th>CompanyName</th>\n",
       "    </tr>\n",
       "  </thead>\n",
       "  <tbody>\n",
       "    <tr>\n",
       "      <th>0</th>\n",
       "      <td>10249</td>\n",
       "      <td>11.61</td>\n",
       "      <td>1</td>\n",
       "      <td>Speedy Express</td>\n",
       "    </tr>\n",
       "    <tr>\n",
       "      <th>1</th>\n",
       "      <td>10251</td>\n",
       "      <td>41.34</td>\n",
       "      <td>1</td>\n",
       "      <td>Speedy Express</td>\n",
       "    </tr>\n",
       "    <tr>\n",
       "      <th>2</th>\n",
       "      <td>10258</td>\n",
       "      <td>140.51</td>\n",
       "      <td>1</td>\n",
       "      <td>Speedy Express</td>\n",
       "    </tr>\n",
       "    <tr>\n",
       "      <th>3</th>\n",
       "      <td>10260</td>\n",
       "      <td>55.09</td>\n",
       "      <td>1</td>\n",
       "      <td>Speedy Express</td>\n",
       "    </tr>\n",
       "    <tr>\n",
       "      <th>4</th>\n",
       "      <td>10265</td>\n",
       "      <td>55.28</td>\n",
       "      <td>1</td>\n",
       "      <td>Speedy Express</td>\n",
       "    </tr>\n",
       "  </tbody>\n",
       "</table>\n",
       "</div>"
      ],
      "text/plain": [
       "   OrderId  Freight  ShipperId     CompanyName\n",
       "0    10249    11.61          1  Speedy Express\n",
       "1    10251    41.34          1  Speedy Express\n",
       "2    10258   140.51          1  Speedy Express\n",
       "3    10260    55.09          1  Speedy Express\n",
       "4    10265    55.28          1  Speedy Express"
      ]
     },
     "metadata": {},
     "output_type": "display_data"
    }
   ],
   "source": [
    "#Previewing our separated data\n",
    "display(united.head())\n",
    "display(federal.head()) \n",
    "display(speedy.head())"
   ]
  },
  {
   "cell_type": "code",
   "execution_count": 71,
   "metadata": {},
   "outputs": [
    {
     "name": "stdout",
     "output_type": "stream",
     "text": [
      "The mean freight cost for United Package is $86.64.\n",
      "The mean freight cost for Federal Shipping is $80.44.\n",
      "The mean freight cost for Speedy Express is $65.0.\n"
     ]
    }
   ],
   "source": [
    "#Calculating mean shipping costs for reach company\n",
    "united_mean = round(united.Freight.mean(),2)\n",
    "federal_mean = round(federal.Freight.mean(),2)\n",
    "speedy_mean = round(speedy.Freight.mean(),2)\n",
    "print(f'The mean freight cost for United Package is ${united_mean}.')\n",
    "print(f'The mean freight cost for Federal Shipping is ${federal_mean}.')\n",
    "print(f'The mean freight cost for Speedy Express is ${speedy_mean}.')"
   ]
  },
  {
   "cell_type": "markdown",
   "metadata": {},
   "source": [
    "### Question 4 - Hypothesis:\n",
    "$H\\_0: \\mu_1\\ = \\mu_2\\ = \\mu_3$  -- There is no difference in mean freight cost between the 3 shipping companies.\n",
    "\n",
    "$H\\_A: \\mu_1\\ \\neq  \\mu_2\\ \\neq\\ \\mu3$ -- The mean freight cost is not equal between the 3 shipping companies.\n"
   ]
  },
  {
   "cell_type": "code",
   "execution_count": 72,
   "metadata": {},
   "outputs": [
    {
     "data": {
      "image/png": "[encoded data removed]",
      "text/plain": [
       "<Figure size 576x576 with 1 Axes>"
      ]
     },
     "metadata": {
      "needs_background": "light"
     },
     "output_type": "display_data"
    }
   ],
   "source": [
    "#Displaying the distribution of Freight costs for the 3 shipping companies\n",
    "plt.figure(figsize=(8,8))\n",
    "sns.distplot(united.Freight, label = 'United Shipping')\n",
    "sns.distplot(federal.Freight, label = 'Federal Shipping')\n",
    "sns.distplot(speedy.Freight, label = 'Speedy Express')\n",
    "plt.axvline(united_mean, linestyle = '--', label = 'United mean', color = 'b')\n",
    "plt.axvline(federal_mean, linestyle = '--', label = 'Federal mean', color = 'orange')\n",
    "plt.axvline(speedy_mean, linestyle = '--', label = 'Speedy mean', color = 'g')\n",
    "plt.title(\"Distribution of Freight Costs per Order by Shipping Company\")\n",
    "#plt.xlim(-50, 300) Decided not to use this because we log transform the data below\n",
    "plt.legend()\n",
    "plt.show()"
   ]
  },
  {
   "cell_type": "markdown",
   "metadata": {},
   "source": [
    "The data is very positively-skewed so we will take a different look of it, after log transforming the Freight costs."
   ]
  },
  {
   "cell_type": "code",
   "execution_count": 73,
   "metadata": {},
   "outputs": [
    {
     "data": {
      "image/png": "[encoded data removed]",
      "text/plain": [
       "<Figure size 576x576 with 1 Axes>"
      ]
     },
     "metadata": {
      "needs_background": "light"
     },
     "output_type": "display_data"
    }
   ],
   "source": [
    "plt.figure(figsize=(8,8))\n",
    "sns.distplot(np.log(united.Freight), label = 'United Shipping')\n",
    "sns.distplot(np.log(federal.Freight), label = 'Federal Shipping')\n",
    "sns.distplot(np.log(speedy.Freight), label = 'Speedy Express')\n",
    "plt.axvline(np.log(united_mean), linestyle = '--', label = 'United mean', color = 'b')\n",
    "plt.axvline(np.log(federal_mean), linestyle = '--', label = 'Federal mean', color = 'orange')\n",
    "plt.axvline(np.log(speedy_mean), linestyle = '--', label = 'Speedy mean', color = 'g')\n",
    "plt.title(\"Distribution of Freight Costs per Order by Shipping Company\")\n",
    "plt.legend()\n",
    "plt.show()"
   ]
  },
  {
   "cell_type": "code",
   "execution_count": 74,
   "metadata": {},
   "outputs": [
    {
     "data": {
      "text/plain": [
       "LeveneResult(statistic=0.315073827875784, pvalue=0.7298225542862442)"
      ]
     },
     "execution_count": 74,
     "metadata": {},
     "output_type": "execute_result"
    }
   ],
   "source": [
    "#Levene Test for equal variance with alpha 0.05\n",
    "stats.levene(np.log(united.Freight), np.log(federal.Freight), np.log(speedy.Freight))"
   ]
  },
  {
   "cell_type": "code",
   "execution_count": 75,
   "metadata": {},
   "outputs": [
    {
     "data": {
      "text/html": [
       "<div>\n",
       "<style scoped>\n",
       "    .dataframe tbody tr th:only-of-type {\n",
       "        vertical-align: middle;\n",
       "    }\n",
       "\n",
       "    .dataframe tbody tr th {\n",
       "        vertical-align: top;\n",
       "    }\n",
       "\n",
       "    .dataframe thead th {\n",
       "        text-align: right;\n",
       "    }\n",
       "</style>\n",
       "<table border=\"1\" class=\"dataframe\">\n",
       "  <thead>\n",
       "    <tr style=\"text-align: right;\">\n",
       "      <th></th>\n",
       "      <th>OrderId</th>\n",
       "      <th>Freight</th>\n",
       "      <th>ShipperId</th>\n",
       "      <th>CompanyName</th>\n",
       "    </tr>\n",
       "  </thead>\n",
       "  <tbody>\n",
       "    <tr>\n",
       "      <th>0</th>\n",
       "      <td>10249</td>\n",
       "      <td>2.451867</td>\n",
       "      <td>1</td>\n",
       "      <td>Speedy Express</td>\n",
       "    </tr>\n",
       "    <tr>\n",
       "      <th>1</th>\n",
       "      <td>10251</td>\n",
       "      <td>3.721831</td>\n",
       "      <td>1</td>\n",
       "      <td>Speedy Express</td>\n",
       "    </tr>\n",
       "    <tr>\n",
       "      <th>2</th>\n",
       "      <td>10258</td>\n",
       "      <td>4.945279</td>\n",
       "      <td>1</td>\n",
       "      <td>Speedy Express</td>\n",
       "    </tr>\n",
       "    <tr>\n",
       "      <th>3</th>\n",
       "      <td>10260</td>\n",
       "      <td>4.008968</td>\n",
       "      <td>1</td>\n",
       "      <td>Speedy Express</td>\n",
       "    </tr>\n",
       "    <tr>\n",
       "      <th>4</th>\n",
       "      <td>10265</td>\n",
       "      <td>4.012411</td>\n",
       "      <td>1</td>\n",
       "      <td>Speedy Express</td>\n",
       "    </tr>\n",
       "  </tbody>\n",
       "</table>\n",
       "</div>"
      ],
      "text/plain": [
       "   OrderId   Freight  ShipperId     CompanyName\n",
       "0    10249  2.451867          1  Speedy Express\n",
       "1    10251  3.721831          1  Speedy Express\n",
       "2    10258  4.945279          1  Speedy Express\n",
       "3    10260  4.008968          1  Speedy Express\n",
       "4    10265  4.012411          1  Speedy Express"
      ]
     },
     "execution_count": 75,
     "metadata": {},
     "output_type": "execute_result"
    }
   ],
   "source": [
    "log_shipping = shipping.copy()\n",
    "log_shipping['Freight'] = np.log(shipping['Freight'])\n",
    "log_shipping.head()"
   ]
  },
  {
   "cell_type": "code",
   "execution_count": 76,
   "metadata": {},
   "outputs": [
    {
     "name": "stdout",
     "output_type": "stream",
     "text": [
      "                     sum_sq     df         F    PR(>F)\n",
      "C(CompanyName)     1.816553    2.0  0.361166  0.696973\n",
      "Residual        2079.778316  827.0       NaN       NaN\n"
     ]
    },
    {
     "data": {
      "text/html": [
       "<table class=\"simpletable\">\n",
       "<caption>OLS Regression Results</caption>\n",
       "<tr>\n",
       "  <th>Dep. Variable:</th>         <td>Freight</td>     <th>  R-squared:         </th> <td>   0.001</td>\n",
       "</tr>\n",
       "<tr>\n",
       "  <th>Model:</th>                   <td>OLS</td>       <th>  Adj. R-squared:    </th> <td>  -0.002</td>\n",
       "</tr>\n",
       "<tr>\n",
       "  <th>Method:</th>             <td>Least Squares</td>  <th>  F-statistic:       </th> <td>  0.3612</td>\n",
       "</tr>\n",
       "<tr>\n",
       "  <th>Date:</th>             <td>Sun, 16 Jun 2019</td> <th>  Prob (F-statistic):</th>  <td> 0.697</td> \n",
       "</tr>\n",
       "<tr>\n",
       "  <th>Time:</th>                 <td>21:39:29</td>     <th>  Log-Likelihood:    </th> <td> -1558.9</td>\n",
       "</tr>\n",
       "<tr>\n",
       "  <th>No. Observations:</th>      <td>   830</td>      <th>  AIC:               </th> <td>   3124.</td>\n",
       "</tr>\n",
       "<tr>\n",
       "  <th>Df Residuals:</th>          <td>   827</td>      <th>  BIC:               </th> <td>   3138.</td>\n",
       "</tr>\n",
       "<tr>\n",
       "  <th>Df Model:</th>              <td>     2</td>      <th>                     </th>     <td> </td>   \n",
       "</tr>\n",
       "<tr>\n",
       "  <th>Covariance Type:</th>      <td>nonrobust</td>    <th>                     </th>     <td> </td>   \n",
       "</tr>\n",
       "</table>\n",
       "<table class=\"simpletable\">\n",
       "<tr>\n",
       "                  <td></td>                    <th>coef</th>     <th>std err</th>      <th>t</th>      <th>P>|t|</th>  <th>[0.025</th>    <th>0.975]</th>  \n",
       "</tr>\n",
       "<tr>\n",
       "  <th>Intercept</th>                        <td>    3.4582</td> <td>    0.099</td> <td>   34.823</td> <td> 0.000</td> <td>    3.263</td> <td>    3.653</td>\n",
       "</tr>\n",
       "<tr>\n",
       "  <th>C(CompanyName)[T.Speedy Express]</th> <td>   -0.0795</td> <td>    0.141</td> <td>   -0.563</td> <td> 0.574</td> <td>   -0.357</td> <td>    0.198</td>\n",
       "</tr>\n",
       "<tr>\n",
       "  <th>C(CompanyName)[T.United Package]</th> <td>    0.0325</td> <td>    0.133</td> <td>    0.245</td> <td> 0.806</td> <td>   -0.228</td> <td>    0.293</td>\n",
       "</tr>\n",
       "</table>\n",
       "<table class=\"simpletable\">\n",
       "<tr>\n",
       "  <th>Omnibus:</th>       <td>81.455</td> <th>  Durbin-Watson:     </th> <td>   2.130</td>\n",
       "</tr>\n",
       "<tr>\n",
       "  <th>Prob(Omnibus):</th> <td> 0.000</td> <th>  Jarque-Bera (JB):  </th> <td> 107.386</td>\n",
       "</tr>\n",
       "<tr>\n",
       "  <th>Skew:</th>          <td>-0.779</td> <th>  Prob(JB):          </th> <td>4.80e-24</td>\n",
       "</tr>\n",
       "<tr>\n",
       "  <th>Kurtosis:</th>      <td> 3.822</td> <th>  Cond. No.          </th> <td>    3.89</td>\n",
       "</tr>\n",
       "</table><br/><br/>Warnings:<br/>[1] Standard Errors assume that the covariance matrix of the errors is correctly specified."
      ],
      "text/plain": [
       "<class 'statsmodels.iolib.summary.Summary'>\n",
       "\"\"\"\n",
       "                            OLS Regression Results                            \n",
       "==============================================================================\n",
       "Dep. Variable:                Freight   R-squared:                       0.001\n",
       "Model:                            OLS   Adj. R-squared:                 -0.002\n",
       "Method:                 Least Squares   F-statistic:                    0.3612\n",
       "Date:                Sun, 16 Jun 2019   Prob (F-statistic):              0.697\n",
       "Time:                        21:39:29   Log-Likelihood:                -1558.9\n",
       "No. Observations:                 830   AIC:                             3124.\n",
       "Df Residuals:                     827   BIC:                             3138.\n",
       "Df Model:                           2                                         \n",
       "Covariance Type:            nonrobust                                         \n",
       "====================================================================================================\n",
       "                                       coef    std err          t      P>|t|      [0.025      0.975]\n",
       "----------------------------------------------------------------------------------------------------\n",
       "Intercept                            3.4582      0.099     34.823      0.000       3.263       3.653\n",
       "C(CompanyName)[T.Speedy Express]    -0.0795      0.141     -0.563      0.574      -0.357       0.198\n",
       "C(CompanyName)[T.United Package]     0.0325      0.133      0.245      0.806      -0.228       0.293\n",
       "==============================================================================\n",
       "Omnibus:                       81.455   Durbin-Watson:                   2.130\n",
       "Prob(Omnibus):                  0.000   Jarque-Bera (JB):              107.386\n",
       "Skew:                          -0.779   Prob(JB):                     4.80e-24\n",
       "Kurtosis:                       3.822   Cond. No.                         3.89\n",
       "==============================================================================\n",
       "\n",
       "Warnings:\n",
       "[1] Standard Errors assume that the covariance matrix of the errors is correctly specified.\n",
       "\"\"\""
      ]
     },
     "execution_count": 76,
     "metadata": {},
     "output_type": "execute_result"
    }
   ],
   "source": [
    "#Anova test with alpha 0.05\n",
    "formula = 'Freight ~ C(CompanyName)'\n",
    "lm = ols(formula, log_shipping).fit()\n",
    "table = sm.stats.anova_lm(lm, typ=2)\n",
    "print(table)\n",
    "lm.summary()"
   ]
  },
  {
   "cell_type": "code",
   "execution_count": 77,
   "metadata": {},
   "outputs": [
    {
     "data": {
      "text/html": [
       "<table class=\"simpletable\">\n",
       "<caption>Multiple Comparison of Means - Tukey HSD,FWER=0.05</caption>\n",
       "<tr>\n",
       "       <th>group1</th>          <th>group2</th>     <th>meandiff</th>  <th>lower</th>   <th>upper</th> <th>reject</th>\n",
       "</tr>\n",
       "<tr>\n",
       "  <td>Federal Shipping</td> <td>Speedy Express</td>  <td>-0.0795</td> <td>-0.4112</td> <td>0.2523</td>  <td>False</td>\n",
       "</tr>\n",
       "<tr>\n",
       "  <td>Federal Shipping</td> <td>United Package</td>  <td>0.0325</td>  <td>-0.2788</td> <td>0.3438</td>  <td>False</td>\n",
       "</tr>\n",
       "<tr>\n",
       "   <td>Speedy Express</td>  <td>United Package</td>   <td>0.112</td>  <td>-0.2014</td> <td>0.4254</td>  <td>False</td>\n",
       "</tr>\n",
       "</table>"
      ],
      "text/plain": [
       "<class 'statsmodels.iolib.table.SimpleTable'>"
      ]
     },
     "execution_count": 77,
     "metadata": {},
     "output_type": "execute_result"
    }
   ],
   "source": [
    "#Tukey Multicomparison Test\n",
    "mc = sm.stats.multicomp.MultiComparison(log_shipping['Freight'],log_shipping['CompanyName'])\n",
    "result = mc.tukeyhsd()\n",
    "result.summary()"
   ]
  },
  {
   "cell_type": "markdown",
   "metadata": {},
   "source": [
    "### Result: Fail to Reject the Null Hypothesis"
   ]
  },
  {
   "cell_type": "markdown",
   "metadata": {},
   "source": [
    "The ANOVA p-value is 0.697 which is greater than our alpha of 0.05 so we fail to reject the null and find **no significant difference between the freight costs of the 3 shipping companies employed by Northwind.**  \n",
    "\n",
    "This is confirmed with a Tukey Multicomparison Test which failed to reject the null for all 3 individual comparisons between the companies."
   ]
  },
  {
   "cell_type": "markdown",
   "metadata": {},
   "source": [
    "### Recommendation:"
   ]
  },
  {
   "cell_type": "markdown",
   "metadata": {},
   "source": [
    "Given that there is no significant difference in the frieght costs of the 3 companies, there is no reason to recommend using only 1 or 2 of the companies.  Further study could perhaps show which region each company operates (best) in.  The shipping department should also continue to use the competitive nature of the shipping business to negotiate for better rates and take advantage of any bulk discounts or promotions."
   ]
  },
  {
   "cell_type": "markdown",
   "metadata": {},
   "source": [
    "## Conclusions:\n",
    " - Dicsounts increase sales on a per order basis but the level of discount is not significant.\n",
    " - Northwind makes much greater revenue selling alcoholic beverages than non-alcoholic beverages but on a per order basis there is not\n",
    " - The Seattle office makes 2.5x the revenue of the London office, but on a per sale basis they do not vary significantly\n",
    " - No significant difference in freight costs between the 3 shipping companies.\n",
    " \n",
    "### Recommendations:\n",
    " - Offer more discounts on products but keep them low.\n",
    " - Expand the non-alcoholic beverage product line.\n",
    " - Explore why the team in London is not making as many sales, use the Seattle office as a model.\n",
    " - Continue to negotiate rates with the 3 companies to make shipping as cost-efficient as possible.\n",
    " \n",
    "### Further Work:\n",
    " - Are discounts more effective on certain products or regions?\n",
    " - Market research into beverage sales and trends.  What new non-alcoholic products are likely to be successful?\n",
    " - Study sales by region and office - assess whether sales teams should be assembled in other cities.\n",
    " - Effectiveness of shipping companies by region or product.  Is there any statistical difference in shipping speeds?"
   ]
  }
 ],
 "metadata": {
  "kernelspec": {
   "display_name": "Python 3",
   "language": "python",
   "name": "python3"
  },
  "language_info": {
   "codemirror_mode": {
    "name": "ipython",
    "version": 3
   },
   "file_extension": ".py",
   "mimetype": "text/x-python",
   "name": "python",
   "nbconvert_exporter": "python",
   "pygments_lexer": "ipython3",
   "version": "3.7.1"
  }
 },
 "nbformat": 4,
 "nbformat_minor": 2
}
